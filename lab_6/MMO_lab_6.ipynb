{
 "cells": [
  {
   "cell_type": "markdown",
   "metadata": {
    "id": "q-BtM2SqM3jz"
   },
   "source": [
    "# Лабораторная работа №6\n",
    "## Васильев А.Р. ИУ5-24М\n",
    "\n",
    "### Цель лабораторной работы: изучение методов классификации текстов.\n",
    "\n",
    "### Требования к отчету:\n",
    "#### Отчет по лабораторной работе должен содержать:\n",
    "\n",
    "- титульный лист;\n",
    "- описание задания;\n",
    "- текст программы;\n",
    "- экранные формы с примерами выполнения программы.\n",
    "\n",
    "#### Задание - для произвольного набора данных, предназначенного для классификации текстов, решите задачу классификации текста двумя способами:\n",
    "\n",
    "- Способ 1. На основе CountVectorizer или TfidfVectorizer.\n",
    "- Способ 2. На основе моделей word2vec или Glove или fastText.\n",
    "\n",
    "\n",
    "\n",
    "\n",
    "\n"
   ]
  },
  {
   "cell_type": "code",
   "execution_count": null,
   "metadata": {
    "colab": {
     "base_uri": "https://localhost:8080/"
    },
    "id": "PB7IF6k9M3PU",
    "outputId": "0aca7f90-5c67-4cb1-e23e-ef5f6da292db"
   },
   "outputs": [
    {
     "name": "stdout",
     "output_type": "stream",
     "text": [
      "[nltk_data] Downloading package punkt to /root/nltk_data...\n",
      "[nltk_data]   Package punkt is already up-to-date!\n"
     ]
    }
   ],
   "source": [
    "import nltk\n",
    "import spacy\n",
    "import numpy as np\n",
    "from sklearn.datasets import fetch_20newsgroups\n",
    "nltk.download('punkt')\n",
    "from nltk import tokenize\n",
    "import re"
   ]
  },
  {
   "cell_type": "markdown",
   "metadata": {
    "id": "nUIt4hXaM2yP"
   },
   "source": [
    "## Будем использовать датасет 20 newsgroups"
   ]
  },
  {
   "cell_type": "code",
   "execution_count": null,
   "metadata": {
    "id": "N4izXsLUIPKJ"
   },
   "outputs": [],
   "source": [
    "categories = [\"rec.autos\", \"rec.sport.hockey\", \"sci.crypt\", \"sci.med\", \"talk.religion.misc\"]\n",
    "newsgroups_train = fetch_20newsgroups(subset='train', categories=categories)\n",
    "newsgroups_test = fetch_20newsgroups(subset='test', categories=categories)"
   ]
  },
  {
   "cell_type": "code",
   "execution_count": null,
   "metadata": {
    "id": "eVfbL7XzKSvb"
   },
   "outputs": [],
   "source": [
    "unique, frequency = np.unique(newsgroups_train.target, \n",
    "                              return_counts = True)"
   ]
  },
  {
   "cell_type": "code",
   "execution_count": null,
   "metadata": {
    "colab": {
     "base_uri": "https://localhost:8080/"
    },
    "id": "NU4064dJLhI3",
    "outputId": "f136d53d-a2cb-49f4-f831-ec8d74b51112"
   },
   "outputs": [
    {
     "name": "stdout",
     "output_type": "stream",
     "text": [
      "value: 0, count: 594\n",
      "value: 1, count: 600\n",
      "value: 2, count: 595\n",
      "value: 3, count: 594\n",
      "value: 4, count: 377\n"
     ]
    }
   ],
   "source": [
    "for l, f in zip(unique, frequency):\n",
    "  print(f'value: {l}, count: {f}')"
   ]
  },
  {
   "cell_type": "code",
   "execution_count": null,
   "metadata": {
    "colab": {
     "base_uri": "https://localhost:8080/"
    },
    "id": "oYLE19elMQZz",
    "outputId": "e730965b-56ce-4a80-98ad-db8f8b3aa136"
   },
   "outputs": [
    {
     "name": "stdout",
     "output_type": "stream",
     "text": [
      "Tokenizers NLTK have\n",
      "BlanklineTokenizer\n",
      "LineTokenizer\n",
      "MWETokenizer\n",
      "PunktSentenceTokenizer\n",
      "RegexpTokenizer\n",
      "ReppTokenizer\n",
      "SExprTokenizer\n",
      "SpaceTokenizer\n",
      "StanfordSegmenter\n",
      "TabTokenizer\n",
      "TextTilingTokenizer\n",
      "ToktokTokenizer\n",
      "TreebankWordTokenizer\n",
      "TweetTokenizer\n",
      "WhitespaceTokenizer\n",
      "WordPunctTokenizer\n"
     ]
    }
   ],
   "source": [
    "print('Tokenizers NLTK have')\n",
    "for i in dir(tokenize)[:16]:\n",
    "  print(i)"
   ]
  },
  {
   "cell_type": "markdown",
   "metadata": {
    "id": "nF7eplbYNT1E"
   },
   "source": [
    "## Подготовка текстов"
   ]
  },
  {
   "cell_type": "code",
   "execution_count": null,
   "metadata": {
    "colab": {
     "base_uri": "https://localhost:8080/"
    },
    "id": "MELpilnoVsAv",
    "outputId": "048386ed-b13e-4183-af06-a56aabbab506"
   },
   "outputs": [
    {
     "name": "stdout",
     "output_type": "stream",
     "text": [
      "[nltk_data] Downloading package stopwords to /root/nltk_data...\n",
      "[nltk_data]   Package stopwords is already up-to-date!\n"
     ]
    }
   ],
   "source": [
    "from spacy.lang.en import English\n",
    "import spacy\n",
    "from nltk.corpus import stopwords\n",
    "\n",
    "nlp = spacy.load(\"en_core_web_sm\", disable=[\"parser\", \"ner\"])\n",
    "nltk.download('stopwords')\n",
    "stopwords_eng = set(stopwords.words('english'))"
   ]
  },
  {
   "cell_type": "code",
   "execution_count": null,
   "metadata": {
    "colab": {
     "base_uri": "https://localhost:8080/",
     "height": 459
    },
    "id": "LirG_wtMNxBh",
    "outputId": "7dc96413-2789-4442-d3cb-b658c57cb45c"
   },
   "outputs": [
    {
     "ename": "KeyboardInterrupt",
     "evalue": "ignored",
     "output_type": "error",
     "traceback": [
      "\u001b[0;31m---------------------------------------------------------------------------\u001b[0m",
      "\u001b[0;31mKeyboardInterrupt\u001b[0m                         Traceback (most recent call last)",
      "\u001b[0;32m<ipython-input-7-fda0f8609e81>\u001b[0m in \u001b[0;36m<module>\u001b[0;34m()\u001b[0m\n\u001b[1;32m     11\u001b[0m \u001b[0;34m\u001b[0m\u001b[0m\n\u001b[1;32m     12\u001b[0m \u001b[0;32mfor\u001b[0m \u001b[0mtext\u001b[0m \u001b[0;32min\u001b[0m \u001b[0mtexts\u001b[0m\u001b[0;34m:\u001b[0m\u001b[0;34m\u001b[0m\u001b[0;34m\u001b[0m\u001b[0m\n\u001b[0;32m---> 13\u001b[0;31m   \u001b[0mprepared_text\u001b[0m \u001b[0;34m=\u001b[0m \u001b[0mprepare\u001b[0m\u001b[0;34m(\u001b[0m\u001b[0mtext\u001b[0m\u001b[0;34m)\u001b[0m\u001b[0;34m\u001b[0m\u001b[0;34m\u001b[0m\u001b[0m\n\u001b[0m\u001b[1;32m     14\u001b[0m   \u001b[0mtexts_array\u001b[0m\u001b[0;34m.\u001b[0m\u001b[0mappend\u001b[0m\u001b[0;34m(\u001b[0m\u001b[0mprepared_text\u001b[0m\u001b[0;34m)\u001b[0m\u001b[0;34m\u001b[0m\u001b[0;34m\u001b[0m\u001b[0m\n",
      "\u001b[0;32m<ipython-input-7-fda0f8609e81>\u001b[0m in \u001b[0;36mprepare\u001b[0;34m(t)\u001b[0m\n\u001b[1;32m      3\u001b[0m   \u001b[0mt\u001b[0m \u001b[0;34m=\u001b[0m \u001b[0mre\u001b[0m\u001b[0;34m.\u001b[0m\u001b[0msub\u001b[0m\u001b[0;34m(\u001b[0m\u001b[0;34mr'[^a-zA-Z0-9 \\n]'\u001b[0m\u001b[0;34m,\u001b[0m \u001b[0;34m''\u001b[0m\u001b[0;34m,\u001b[0m \u001b[0mt\u001b[0m\u001b[0;34m)\u001b[0m\u001b[0;34m\u001b[0m\u001b[0;34m\u001b[0m\u001b[0m\n\u001b[1;32m      4\u001b[0m   \u001b[0mt\u001b[0m \u001b[0;34m=\u001b[0m \u001b[0mre\u001b[0m\u001b[0;34m.\u001b[0m\u001b[0msub\u001b[0m\u001b[0;34m(\u001b[0m\u001b[0;34m'\\s+'\u001b[0m\u001b[0;34m,\u001b[0m \u001b[0;34m' '\u001b[0m\u001b[0;34m,\u001b[0m \u001b[0mt\u001b[0m\u001b[0;34m)\u001b[0m\u001b[0;34m\u001b[0m\u001b[0;34m\u001b[0m\u001b[0m\n\u001b[0;32m----> 5\u001b[0;31m   \u001b[0mt\u001b[0m \u001b[0;34m=\u001b[0m \u001b[0;34m' '\u001b[0m\u001b[0;34m.\u001b[0m\u001b[0mjoin\u001b[0m\u001b[0;34m(\u001b[0m\u001b[0;34m[\u001b[0m\u001b[0mtoken\u001b[0m\u001b[0;34m.\u001b[0m\u001b[0mlemma_\u001b[0m\u001b[0;34m.\u001b[0m\u001b[0mlower\u001b[0m\u001b[0;34m(\u001b[0m\u001b[0;34m)\u001b[0m \u001b[0;32mfor\u001b[0m \u001b[0mtoken\u001b[0m \u001b[0;32min\u001b[0m \u001b[0mnlp\u001b[0m\u001b[0;34m(\u001b[0m\u001b[0mt\u001b[0m\u001b[0;34m)\u001b[0m \u001b[0;32mif\u001b[0m \u001b[0mtoken\u001b[0m \u001b[0;32mnot\u001b[0m \u001b[0;32min\u001b[0m \u001b[0mstopwords_eng\u001b[0m\u001b[0;34m]\u001b[0m\u001b[0;34m)\u001b[0m\u001b[0;34m\u001b[0m\u001b[0;34m\u001b[0m\u001b[0m\n\u001b[0m\u001b[1;32m      6\u001b[0m   \u001b[0;32mreturn\u001b[0m \u001b[0mt\u001b[0m\u001b[0;34m\u001b[0m\u001b[0;34m\u001b[0m\u001b[0m\n\u001b[1;32m      7\u001b[0m \u001b[0;34m\u001b[0m\u001b[0m\n",
      "\u001b[0;32m/usr/local/lib/python3.7/dist-packages/spacy/language.py\u001b[0m in \u001b[0;36m__call__\u001b[0;34m(self, text, disable, component_cfg)\u001b[0m\n\u001b[1;32m    429\u001b[0m                 \u001b[0mErrors\u001b[0m\u001b[0;34m.\u001b[0m\u001b[0mE088\u001b[0m\u001b[0;34m.\u001b[0m\u001b[0mformat\u001b[0m\u001b[0;34m(\u001b[0m\u001b[0mlength\u001b[0m\u001b[0;34m=\u001b[0m\u001b[0mlen\u001b[0m\u001b[0;34m(\u001b[0m\u001b[0mtext\u001b[0m\u001b[0;34m)\u001b[0m\u001b[0;34m,\u001b[0m \u001b[0mmax_length\u001b[0m\u001b[0;34m=\u001b[0m\u001b[0mself\u001b[0m\u001b[0;34m.\u001b[0m\u001b[0mmax_length\u001b[0m\u001b[0;34m)\u001b[0m\u001b[0;34m\u001b[0m\u001b[0;34m\u001b[0m\u001b[0m\n\u001b[1;32m    430\u001b[0m             )\n\u001b[0;32m--> 431\u001b[0;31m         \u001b[0mdoc\u001b[0m \u001b[0;34m=\u001b[0m \u001b[0mself\u001b[0m\u001b[0;34m.\u001b[0m\u001b[0mmake_doc\u001b[0m\u001b[0;34m(\u001b[0m\u001b[0mtext\u001b[0m\u001b[0;34m)\u001b[0m\u001b[0;34m\u001b[0m\u001b[0;34m\u001b[0m\u001b[0m\n\u001b[0m\u001b[1;32m    432\u001b[0m         \u001b[0;32mif\u001b[0m \u001b[0mcomponent_cfg\u001b[0m \u001b[0;32mis\u001b[0m \u001b[0;32mNone\u001b[0m\u001b[0;34m:\u001b[0m\u001b[0;34m\u001b[0m\u001b[0;34m\u001b[0m\u001b[0m\n\u001b[1;32m    433\u001b[0m             \u001b[0mcomponent_cfg\u001b[0m \u001b[0;34m=\u001b[0m \u001b[0;34m{\u001b[0m\u001b[0;34m}\u001b[0m\u001b[0;34m\u001b[0m\u001b[0;34m\u001b[0m\u001b[0m\n",
      "\u001b[0;32m/usr/local/lib/python3.7/dist-packages/spacy/language.py\u001b[0m in \u001b[0;36mmake_doc\u001b[0;34m(self, text)\u001b[0m\n\u001b[1;32m    455\u001b[0m \u001b[0;34m\u001b[0m\u001b[0m\n\u001b[1;32m    456\u001b[0m     \u001b[0;32mdef\u001b[0m \u001b[0mmake_doc\u001b[0m\u001b[0;34m(\u001b[0m\u001b[0mself\u001b[0m\u001b[0;34m,\u001b[0m \u001b[0mtext\u001b[0m\u001b[0;34m)\u001b[0m\u001b[0;34m:\u001b[0m\u001b[0;34m\u001b[0m\u001b[0;34m\u001b[0m\u001b[0m\n\u001b[0;32m--> 457\u001b[0;31m         \u001b[0;32mreturn\u001b[0m \u001b[0mself\u001b[0m\u001b[0;34m.\u001b[0m\u001b[0mtokenizer\u001b[0m\u001b[0;34m(\u001b[0m\u001b[0mtext\u001b[0m\u001b[0;34m)\u001b[0m\u001b[0;34m\u001b[0m\u001b[0;34m\u001b[0m\u001b[0m\n\u001b[0m\u001b[1;32m    458\u001b[0m \u001b[0;34m\u001b[0m\u001b[0m\n\u001b[1;32m    459\u001b[0m     \u001b[0;32mdef\u001b[0m \u001b[0m_format_docs_and_golds\u001b[0m\u001b[0;34m(\u001b[0m\u001b[0mself\u001b[0m\u001b[0;34m,\u001b[0m \u001b[0mdocs\u001b[0m\u001b[0;34m,\u001b[0m \u001b[0mgolds\u001b[0m\u001b[0;34m)\u001b[0m\u001b[0;34m:\u001b[0m\u001b[0;34m\u001b[0m\u001b[0;34m\u001b[0m\u001b[0m\n",
      "\u001b[0;32mtokenizer.pyx\u001b[0m in \u001b[0;36mspacy.tokenizer.Tokenizer.__call__\u001b[0;34m()\u001b[0m\n",
      "\u001b[0;32mdoc.pyx\u001b[0m in \u001b[0;36mspacy.tokens.doc.Doc.__init__\u001b[0;34m()\u001b[0m\n",
      "\u001b[0;32mdoc.pyx\u001b[0m in \u001b[0;36mspacy.tokens.doc._get_chunker\u001b[0;34m()\u001b[0m\n",
      "\u001b[0;32m/usr/local/lib/python3.7/dist-packages/spacy/util.py\u001b[0m in \u001b[0;36mget_lang_class\u001b[0;34m(lang)\u001b[0m\n\u001b[1;32m     69\u001b[0m     \u001b[0;31m# Check if language is registered / entry point is available\u001b[0m\u001b[0;34m\u001b[0m\u001b[0;34m\u001b[0m\u001b[0;34m\u001b[0m\u001b[0m\n\u001b[1;32m     70\u001b[0m     \u001b[0;32mif\u001b[0m \u001b[0mlang\u001b[0m \u001b[0;32min\u001b[0m \u001b[0mregistry\u001b[0m\u001b[0;34m.\u001b[0m\u001b[0mlanguages\u001b[0m\u001b[0;34m:\u001b[0m\u001b[0;34m\u001b[0m\u001b[0;34m\u001b[0m\u001b[0m\n\u001b[0;32m---> 71\u001b[0;31m         \u001b[0;32mreturn\u001b[0m \u001b[0mregistry\u001b[0m\u001b[0;34m.\u001b[0m\u001b[0mlanguages\u001b[0m\u001b[0;34m.\u001b[0m\u001b[0mget\u001b[0m\u001b[0;34m(\u001b[0m\u001b[0mlang\u001b[0m\u001b[0;34m)\u001b[0m\u001b[0;34m\u001b[0m\u001b[0;34m\u001b[0m\u001b[0m\n\u001b[0m\u001b[1;32m     72\u001b[0m     \u001b[0;32melse\u001b[0m\u001b[0;34m:\u001b[0m\u001b[0;34m\u001b[0m\u001b[0;34m\u001b[0m\u001b[0m\n\u001b[1;32m     73\u001b[0m         \u001b[0;32mtry\u001b[0m\u001b[0;34m:\u001b[0m\u001b[0;34m\u001b[0m\u001b[0;34m\u001b[0m\u001b[0m\n",
      "\u001b[0;32m/usr/local/lib/python3.7/dist-packages/catalogue.py\u001b[0m in \u001b[0;36mget\u001b[0;34m(self, name)\u001b[0m\n\u001b[1;32m     90\u001b[0m         \"\"\"\n\u001b[1;32m     91\u001b[0m         \u001b[0;32mif\u001b[0m \u001b[0mself\u001b[0m\u001b[0;34m.\u001b[0m\u001b[0mentry_points\u001b[0m\u001b[0;34m:\u001b[0m\u001b[0;34m\u001b[0m\u001b[0;34m\u001b[0m\u001b[0m\n\u001b[0;32m---> 92\u001b[0;31m             \u001b[0mfrom_entry_point\u001b[0m \u001b[0;34m=\u001b[0m \u001b[0mself\u001b[0m\u001b[0;34m.\u001b[0m\u001b[0mget_entry_point\u001b[0m\u001b[0;34m(\u001b[0m\u001b[0mname\u001b[0m\u001b[0;34m)\u001b[0m\u001b[0;34m\u001b[0m\u001b[0;34m\u001b[0m\u001b[0m\n\u001b[0m\u001b[1;32m     93\u001b[0m             \u001b[0;32mif\u001b[0m \u001b[0mfrom_entry_point\u001b[0m\u001b[0;34m:\u001b[0m\u001b[0;34m\u001b[0m\u001b[0;34m\u001b[0m\u001b[0m\n\u001b[1;32m     94\u001b[0m                 \u001b[0;32mreturn\u001b[0m \u001b[0mfrom_entry_point\u001b[0m\u001b[0;34m\u001b[0m\u001b[0;34m\u001b[0m\u001b[0m\n",
      "\u001b[0;32m/usr/local/lib/python3.7/dist-packages/catalogue.py\u001b[0m in \u001b[0;36mget_entry_point\u001b[0;34m(self, name, default)\u001b[0m\n\u001b[1;32m    136\u001b[0m         \u001b[0mRETURNS\u001b[0m \u001b[0;34m(\u001b[0m\u001b[0mAny\u001b[0m\u001b[0;34m)\u001b[0m\u001b[0;34m:\u001b[0m \u001b[0mThe\u001b[0m \u001b[0mloaded\u001b[0m \u001b[0mentry\u001b[0m \u001b[0mpoint\u001b[0m \u001b[0;32mor\u001b[0m \u001b[0mthe\u001b[0m \u001b[0mdefault\u001b[0m \u001b[0mvalue\u001b[0m\u001b[0;34m.\u001b[0m\u001b[0;34m\u001b[0m\u001b[0;34m\u001b[0m\u001b[0m\n\u001b[1;32m    137\u001b[0m         \"\"\"\n\u001b[0;32m--> 138\u001b[0;31m         \u001b[0;32mfor\u001b[0m \u001b[0mentry_point\u001b[0m \u001b[0;32min\u001b[0m \u001b[0mAVAILABLE_ENTRY_POINTS\u001b[0m\u001b[0;34m.\u001b[0m\u001b[0mget\u001b[0m\u001b[0;34m(\u001b[0m\u001b[0mself\u001b[0m\u001b[0;34m.\u001b[0m\u001b[0mentry_point_namespace\u001b[0m\u001b[0;34m,\u001b[0m \u001b[0;34m[\u001b[0m\u001b[0;34m]\u001b[0m\u001b[0;34m)\u001b[0m\u001b[0;34m:\u001b[0m\u001b[0;34m\u001b[0m\u001b[0;34m\u001b[0m\u001b[0m\n\u001b[0m\u001b[1;32m    139\u001b[0m             \u001b[0;32mif\u001b[0m \u001b[0mentry_point\u001b[0m\u001b[0;34m.\u001b[0m\u001b[0mname\u001b[0m \u001b[0;34m==\u001b[0m \u001b[0mname\u001b[0m\u001b[0;34m:\u001b[0m\u001b[0;34m\u001b[0m\u001b[0;34m\u001b[0m\u001b[0m\n\u001b[1;32m    140\u001b[0m                 \u001b[0;32mreturn\u001b[0m \u001b[0mentry_point\u001b[0m\u001b[0;34m.\u001b[0m\u001b[0mload\u001b[0m\u001b[0;34m(\u001b[0m\u001b[0;34m)\u001b[0m\u001b[0;34m\u001b[0m\u001b[0;34m\u001b[0m\u001b[0m\n",
      "\u001b[0;32m/usr/local/lib/python3.7/dist-packages/importlib_metadata/__init__.py\u001b[0m in \u001b[0;36mget\u001b[0;34m(self, name, default)\u001b[0m\n\u001b[1;32m    309\u001b[0m \u001b[0;34m\u001b[0m\u001b[0m\n\u001b[1;32m    310\u001b[0m     \u001b[0;32mdef\u001b[0m \u001b[0mget\u001b[0m\u001b[0;34m(\u001b[0m\u001b[0mself\u001b[0m\u001b[0;34m,\u001b[0m \u001b[0mname\u001b[0m\u001b[0;34m,\u001b[0m \u001b[0mdefault\u001b[0m\u001b[0;34m=\u001b[0m\u001b[0;32mNone\u001b[0m\u001b[0;34m)\u001b[0m\u001b[0;34m:\u001b[0m\u001b[0;34m\u001b[0m\u001b[0;34m\u001b[0m\u001b[0m\n\u001b[0;32m--> 311\u001b[0;31m         \u001b[0mflake8_bypass\u001b[0m\u001b[0;34m(\u001b[0m\u001b[0mself\u001b[0m\u001b[0;34m.\u001b[0m\u001b[0m_warn\u001b[0m\u001b[0;34m)\u001b[0m\u001b[0;34m(\u001b[0m\u001b[0;34m)\u001b[0m\u001b[0;34m\u001b[0m\u001b[0;34m\u001b[0m\u001b[0m\n\u001b[0m\u001b[1;32m    312\u001b[0m         \u001b[0;32mreturn\u001b[0m \u001b[0msuper\u001b[0m\u001b[0;34m(\u001b[0m\u001b[0;34m)\u001b[0m\u001b[0;34m.\u001b[0m\u001b[0mget\u001b[0m\u001b[0;34m(\u001b[0m\u001b[0mname\u001b[0m\u001b[0;34m,\u001b[0m \u001b[0mdefault\u001b[0m\u001b[0;34m)\u001b[0m\u001b[0;34m\u001b[0m\u001b[0;34m\u001b[0m\u001b[0m\n\u001b[1;32m    313\u001b[0m \u001b[0;34m\u001b[0m\u001b[0m\n",
      "\u001b[0;32m/usr/local/lib/python3.7/dist-packages/importlib_metadata/__init__.py\u001b[0m in \u001b[0;36mflake8_bypass\u001b[0;34m(func)\u001b[0m\n\u001b[1;32m    270\u001b[0m     \u001b[0;32mimport\u001b[0m \u001b[0minspect\u001b[0m\u001b[0;34m\u001b[0m\u001b[0;34m\u001b[0m\u001b[0m\n\u001b[1;32m    271\u001b[0m \u001b[0;34m\u001b[0m\u001b[0m\n\u001b[0;32m--> 272\u001b[0;31m     \u001b[0mis_flake8\u001b[0m \u001b[0;34m=\u001b[0m \u001b[0many\u001b[0m\u001b[0;34m(\u001b[0m\u001b[0;34m'flake8'\u001b[0m \u001b[0;32min\u001b[0m \u001b[0mstr\u001b[0m\u001b[0;34m(\u001b[0m\u001b[0mframe\u001b[0m\u001b[0;34m.\u001b[0m\u001b[0mfilename\u001b[0m\u001b[0;34m)\u001b[0m \u001b[0;32mfor\u001b[0m \u001b[0mframe\u001b[0m \u001b[0;32min\u001b[0m \u001b[0minspect\u001b[0m\u001b[0;34m.\u001b[0m\u001b[0mstack\u001b[0m\u001b[0;34m(\u001b[0m\u001b[0;34m)\u001b[0m\u001b[0;34m[\u001b[0m\u001b[0;34m:\u001b[0m\u001b[0;36m5\u001b[0m\u001b[0;34m]\u001b[0m\u001b[0;34m)\u001b[0m\u001b[0;34m\u001b[0m\u001b[0;34m\u001b[0m\u001b[0m\n\u001b[0m\u001b[1;32m    273\u001b[0m     \u001b[0;32mreturn\u001b[0m \u001b[0mfunc\u001b[0m \u001b[0;32mif\u001b[0m \u001b[0;32mnot\u001b[0m \u001b[0mis_flake8\u001b[0m \u001b[0;32melse\u001b[0m \u001b[0;32mlambda\u001b[0m\u001b[0;34m:\u001b[0m \u001b[0;32mNone\u001b[0m\u001b[0;34m\u001b[0m\u001b[0;34m\u001b[0m\u001b[0m\n\u001b[1;32m    274\u001b[0m \u001b[0;34m\u001b[0m\u001b[0m\n",
      "\u001b[0;32m/usr/lib/python3.7/inspect.py\u001b[0m in \u001b[0;36mstack\u001b[0;34m(context)\u001b[0m\n\u001b[1;32m   1511\u001b[0m \u001b[0;32mdef\u001b[0m \u001b[0mstack\u001b[0m\u001b[0;34m(\u001b[0m\u001b[0mcontext\u001b[0m\u001b[0;34m=\u001b[0m\u001b[0;36m1\u001b[0m\u001b[0;34m)\u001b[0m\u001b[0;34m:\u001b[0m\u001b[0;34m\u001b[0m\u001b[0;34m\u001b[0m\u001b[0m\n\u001b[1;32m   1512\u001b[0m     \u001b[0;34m\"\"\"Return a list of records for the stack above the caller's frame.\"\"\"\u001b[0m\u001b[0;34m\u001b[0m\u001b[0;34m\u001b[0m\u001b[0m\n\u001b[0;32m-> 1513\u001b[0;31m     \u001b[0;32mreturn\u001b[0m \u001b[0mgetouterframes\u001b[0m\u001b[0;34m(\u001b[0m\u001b[0msys\u001b[0m\u001b[0;34m.\u001b[0m\u001b[0m_getframe\u001b[0m\u001b[0;34m(\u001b[0m\u001b[0;36m1\u001b[0m\u001b[0;34m)\u001b[0m\u001b[0;34m,\u001b[0m \u001b[0mcontext\u001b[0m\u001b[0;34m)\u001b[0m\u001b[0;34m\u001b[0m\u001b[0;34m\u001b[0m\u001b[0m\n\u001b[0m\u001b[1;32m   1514\u001b[0m \u001b[0;34m\u001b[0m\u001b[0m\n\u001b[1;32m   1515\u001b[0m \u001b[0;32mdef\u001b[0m \u001b[0mtrace\u001b[0m\u001b[0;34m(\u001b[0m\u001b[0mcontext\u001b[0m\u001b[0;34m=\u001b[0m\u001b[0;36m1\u001b[0m\u001b[0;34m)\u001b[0m\u001b[0;34m:\u001b[0m\u001b[0;34m\u001b[0m\u001b[0;34m\u001b[0m\u001b[0m\n",
      "\u001b[0;32m/usr/lib/python3.7/inspect.py\u001b[0m in \u001b[0;36mgetouterframes\u001b[0;34m(frame, context)\u001b[0m\n\u001b[1;32m   1488\u001b[0m     \u001b[0mframelist\u001b[0m \u001b[0;34m=\u001b[0m \u001b[0;34m[\u001b[0m\u001b[0;34m]\u001b[0m\u001b[0;34m\u001b[0m\u001b[0;34m\u001b[0m\u001b[0m\n\u001b[1;32m   1489\u001b[0m     \u001b[0;32mwhile\u001b[0m \u001b[0mframe\u001b[0m\u001b[0;34m:\u001b[0m\u001b[0;34m\u001b[0m\u001b[0;34m\u001b[0m\u001b[0m\n\u001b[0;32m-> 1490\u001b[0;31m         \u001b[0mframeinfo\u001b[0m \u001b[0;34m=\u001b[0m \u001b[0;34m(\u001b[0m\u001b[0mframe\u001b[0m\u001b[0;34m,\u001b[0m\u001b[0;34m)\u001b[0m \u001b[0;34m+\u001b[0m \u001b[0mgetframeinfo\u001b[0m\u001b[0;34m(\u001b[0m\u001b[0mframe\u001b[0m\u001b[0;34m,\u001b[0m \u001b[0mcontext\u001b[0m\u001b[0;34m)\u001b[0m\u001b[0;34m\u001b[0m\u001b[0;34m\u001b[0m\u001b[0m\n\u001b[0m\u001b[1;32m   1491\u001b[0m         \u001b[0mframelist\u001b[0m\u001b[0;34m.\u001b[0m\u001b[0mappend\u001b[0m\u001b[0;34m(\u001b[0m\u001b[0mFrameInfo\u001b[0m\u001b[0;34m(\u001b[0m\u001b[0;34m*\u001b[0m\u001b[0mframeinfo\u001b[0m\u001b[0;34m)\u001b[0m\u001b[0;34m)\u001b[0m\u001b[0;34m\u001b[0m\u001b[0;34m\u001b[0m\u001b[0m\n\u001b[1;32m   1492\u001b[0m         \u001b[0mframe\u001b[0m \u001b[0;34m=\u001b[0m \u001b[0mframe\u001b[0m\u001b[0;34m.\u001b[0m\u001b[0mf_back\u001b[0m\u001b[0;34m\u001b[0m\u001b[0;34m\u001b[0m\u001b[0m\n",
      "\u001b[0;32m/usr/lib/python3.7/inspect.py\u001b[0m in \u001b[0;36mgetframeinfo\u001b[0;34m(frame, context)\u001b[0m\n\u001b[1;32m   1462\u001b[0m         \u001b[0mstart\u001b[0m \u001b[0;34m=\u001b[0m \u001b[0mlineno\u001b[0m \u001b[0;34m-\u001b[0m \u001b[0;36m1\u001b[0m \u001b[0;34m-\u001b[0m \u001b[0mcontext\u001b[0m\u001b[0;34m//\u001b[0m\u001b[0;36m2\u001b[0m\u001b[0;34m\u001b[0m\u001b[0;34m\u001b[0m\u001b[0m\n\u001b[1;32m   1463\u001b[0m         \u001b[0;32mtry\u001b[0m\u001b[0;34m:\u001b[0m\u001b[0;34m\u001b[0m\u001b[0;34m\u001b[0m\u001b[0m\n\u001b[0;32m-> 1464\u001b[0;31m             \u001b[0mlines\u001b[0m\u001b[0;34m,\u001b[0m \u001b[0mlnum\u001b[0m \u001b[0;34m=\u001b[0m \u001b[0mfindsource\u001b[0m\u001b[0;34m(\u001b[0m\u001b[0mframe\u001b[0m\u001b[0;34m)\u001b[0m\u001b[0;34m\u001b[0m\u001b[0;34m\u001b[0m\u001b[0m\n\u001b[0m\u001b[1;32m   1465\u001b[0m         \u001b[0;32mexcept\u001b[0m \u001b[0mOSError\u001b[0m\u001b[0;34m:\u001b[0m\u001b[0;34m\u001b[0m\u001b[0;34m\u001b[0m\u001b[0m\n\u001b[1;32m   1466\u001b[0m             \u001b[0mlines\u001b[0m \u001b[0;34m=\u001b[0m \u001b[0mindex\u001b[0m \u001b[0;34m=\u001b[0m \u001b[0;32mNone\u001b[0m\u001b[0;34m\u001b[0m\u001b[0;34m\u001b[0m\u001b[0m\n",
      "\u001b[0;32m/usr/lib/python3.7/inspect.py\u001b[0m in \u001b[0;36mfindsource\u001b[0;34m(object)\u001b[0m\n\u001b[1;32m    778\u001b[0m             \u001b[0;32mraise\u001b[0m \u001b[0mOSError\u001b[0m\u001b[0;34m(\u001b[0m\u001b[0;34m'source code not available'\u001b[0m\u001b[0;34m)\u001b[0m\u001b[0;34m\u001b[0m\u001b[0;34m\u001b[0m\u001b[0m\n\u001b[1;32m    779\u001b[0m \u001b[0;34m\u001b[0m\u001b[0m\n\u001b[0;32m--> 780\u001b[0;31m     \u001b[0mmodule\u001b[0m \u001b[0;34m=\u001b[0m \u001b[0mgetmodule\u001b[0m\u001b[0;34m(\u001b[0m\u001b[0mobject\u001b[0m\u001b[0;34m,\u001b[0m \u001b[0mfile\u001b[0m\u001b[0;34m)\u001b[0m\u001b[0;34m\u001b[0m\u001b[0;34m\u001b[0m\u001b[0m\n\u001b[0m\u001b[1;32m    781\u001b[0m     \u001b[0;32mif\u001b[0m \u001b[0mmodule\u001b[0m\u001b[0;34m:\u001b[0m\u001b[0;34m\u001b[0m\u001b[0;34m\u001b[0m\u001b[0m\n\u001b[1;32m    782\u001b[0m         \u001b[0mlines\u001b[0m \u001b[0;34m=\u001b[0m \u001b[0mlinecache\u001b[0m\u001b[0;34m.\u001b[0m\u001b[0mgetlines\u001b[0m\u001b[0;34m(\u001b[0m\u001b[0mfile\u001b[0m\u001b[0;34m,\u001b[0m \u001b[0mmodule\u001b[0m\u001b[0;34m.\u001b[0m\u001b[0m__dict__\u001b[0m\u001b[0;34m)\u001b[0m\u001b[0;34m\u001b[0m\u001b[0;34m\u001b[0m\u001b[0m\n",
      "\u001b[0;32m/usr/lib/python3.7/inspect.py\u001b[0m in \u001b[0;36mgetmodule\u001b[0;34m(object, _filename)\u001b[0m\n\u001b[1;32m    731\u001b[0m     \u001b[0;31m# Copy sys.modules in order to cope with changes while iterating\u001b[0m\u001b[0;34m\u001b[0m\u001b[0;34m\u001b[0m\u001b[0;34m\u001b[0m\u001b[0m\n\u001b[1;32m    732\u001b[0m     \u001b[0;32mfor\u001b[0m \u001b[0mmodname\u001b[0m\u001b[0;34m,\u001b[0m \u001b[0mmodule\u001b[0m \u001b[0;32min\u001b[0m \u001b[0msys\u001b[0m\u001b[0;34m.\u001b[0m\u001b[0mmodules\u001b[0m\u001b[0;34m.\u001b[0m\u001b[0mcopy\u001b[0m\u001b[0;34m(\u001b[0m\u001b[0;34m)\u001b[0m\u001b[0;34m.\u001b[0m\u001b[0mitems\u001b[0m\u001b[0;34m(\u001b[0m\u001b[0;34m)\u001b[0m\u001b[0;34m:\u001b[0m\u001b[0;34m\u001b[0m\u001b[0;34m\u001b[0m\u001b[0m\n\u001b[0;32m--> 733\u001b[0;31m         \u001b[0;32mif\u001b[0m \u001b[0mismodule\u001b[0m\u001b[0;34m(\u001b[0m\u001b[0mmodule\u001b[0m\u001b[0;34m)\u001b[0m \u001b[0;32mand\u001b[0m \u001b[0mhasattr\u001b[0m\u001b[0;34m(\u001b[0m\u001b[0mmodule\u001b[0m\u001b[0;34m,\u001b[0m \u001b[0;34m'__file__'\u001b[0m\u001b[0;34m)\u001b[0m\u001b[0;34m:\u001b[0m\u001b[0;34m\u001b[0m\u001b[0;34m\u001b[0m\u001b[0m\n\u001b[0m\u001b[1;32m    734\u001b[0m             \u001b[0mf\u001b[0m \u001b[0;34m=\u001b[0m \u001b[0mmodule\u001b[0m\u001b[0;34m.\u001b[0m\u001b[0m__file__\u001b[0m\u001b[0;34m\u001b[0m\u001b[0;34m\u001b[0m\u001b[0m\n\u001b[1;32m    735\u001b[0m             \u001b[0;32mif\u001b[0m \u001b[0mf\u001b[0m \u001b[0;34m==\u001b[0m \u001b[0m_filesbymodname\u001b[0m\u001b[0;34m.\u001b[0m\u001b[0mget\u001b[0m\u001b[0;34m(\u001b[0m\u001b[0mmodname\u001b[0m\u001b[0;34m,\u001b[0m \u001b[0;32mNone\u001b[0m\u001b[0;34m)\u001b[0m\u001b[0;34m:\u001b[0m\u001b[0;34m\u001b[0m\u001b[0;34m\u001b[0m\u001b[0m\n",
      "\u001b[0;32m/usr/lib/python3.7/inspect.py\u001b[0m in \u001b[0;36mismodule\u001b[0;34m(object)\u001b[0m\n\u001b[1;32m     68\u001b[0m         \u001b[0m__doc__\u001b[0m         \u001b[0mdocumentation\u001b[0m \u001b[0mstring\u001b[0m\u001b[0;34m\u001b[0m\u001b[0;34m\u001b[0m\u001b[0m\n\u001b[1;32m     69\u001b[0m         __file__        filename (missing for built-in modules)\"\"\"\n\u001b[0;32m---> 70\u001b[0;31m     \u001b[0;32mreturn\u001b[0m \u001b[0misinstance\u001b[0m\u001b[0;34m(\u001b[0m\u001b[0mobject\u001b[0m\u001b[0;34m,\u001b[0m \u001b[0mtypes\u001b[0m\u001b[0;34m.\u001b[0m\u001b[0mModuleType\u001b[0m\u001b[0;34m)\u001b[0m\u001b[0;34m\u001b[0m\u001b[0;34m\u001b[0m\u001b[0m\n\u001b[0m\u001b[1;32m     71\u001b[0m \u001b[0;34m\u001b[0m\u001b[0m\n\u001b[1;32m     72\u001b[0m \u001b[0;32mdef\u001b[0m \u001b[0misclass\u001b[0m\u001b[0;34m(\u001b[0m\u001b[0mobject\u001b[0m\u001b[0;34m)\u001b[0m\u001b[0;34m:\u001b[0m\u001b[0;34m\u001b[0m\u001b[0;34m\u001b[0m\u001b[0m\n",
      "\u001b[0;31mKeyboardInterrupt\u001b[0m: "
     ]
    }
   ],
   "source": [
    "def prepare(t):\n",
    "  # t = ' '.join([i.strip().lower() for i in t.split(' ')])\n",
    "  t = re.sub(r'[^a-zA-Z0-9 \\n]', '', t)\n",
    "  t = re.sub('\\s+', ' ', t)\n",
    "  t = ' '.join([token.lemma_.lower() for token in nlp(t) if token not in stopwords_eng])\n",
    "  return t\n",
    "\n",
    "texts = newsgroups_train.data\n",
    "\n",
    "texts_array = []\n",
    "\n",
    "for text in texts:\n",
    "  prepared_text = prepare(text)\n",
    "  texts_array.append(prepared_text)"
   ]
  },
  {
   "cell_type": "code",
   "execution_count": null,
   "metadata": {
    "id": "lL6uVEv4P0-D"
   },
   "outputs": [],
   "source": [
    "len(texts_array), texts_array[-1]"
   ]
  },
  {
   "cell_type": "code",
   "execution_count": null,
   "metadata": {
    "id": "jA7_F7gqhLmd"
   },
   "outputs": [],
   "source": [
    "test_texts_arr = []\n",
    "\n",
    "test_texts = newsgroups_test.data\n",
    "\n",
    "for text in test_texts:\n",
    "  prepared_text = prepare(text)\n",
    "  test_texts_arr.append(prepared_text)"
   ]
  },
  {
   "cell_type": "markdown",
   "metadata": {
    "id": "iw6he3I2bX6r"
   },
   "source": [
    "## Способ 1 На основе CountVectorizer и TfidfVectorizer"
   ]
  },
  {
   "cell_type": "code",
   "execution_count": null,
   "metadata": {
    "id": "6wbzc3wQbcK9"
   },
   "outputs": [],
   "source": [
    "from sklearn.feature_extraction.text import TfidfVectorizer, CountVectorizer\n",
    "from sklearn.neighbors import KNeighborsClassifier\n",
    "from sklearn.metrics import classification_report"
   ]
  },
  {
   "cell_type": "code",
   "execution_count": null,
   "metadata": {
    "colab": {
     "base_uri": "https://localhost:8080/",
     "height": 197
    },
    "id": "WPbEe60PbjOl",
    "outputId": "06a0ff66-3efb-41d8-810d-aff0ed5b46e2"
   },
   "outputs": [
    {
     "ename": "NameError",
     "evalue": "ignored",
     "output_type": "error",
     "traceback": [
      "\u001b[0;31m---------------------------------------------------------------------------\u001b[0m",
      "\u001b[0;31mNameError\u001b[0m                                 Traceback (most recent call last)",
      "\u001b[0;32m<ipython-input-9-3cb14c8756a3>\u001b[0m in \u001b[0;36m<module>\u001b[0;34m()\u001b[0m\n\u001b[1;32m      2\u001b[0m \u001b[0;34m\u001b[0m\u001b[0m\n\u001b[1;32m      3\u001b[0m \u001b[0mtrain_feature_matrix_tfidf\u001b[0m \u001b[0;34m=\u001b[0m \u001b[0mtfidf_vectorizer\u001b[0m\u001b[0;34m.\u001b[0m\u001b[0mfit_transform\u001b[0m\u001b[0;34m(\u001b[0m\u001b[0mtexts_array\u001b[0m\u001b[0;34m)\u001b[0m\u001b[0;34m\u001b[0m\u001b[0;34m\u001b[0m\u001b[0m\n\u001b[0;32m----> 4\u001b[0;31m \u001b[0mtest_feature_matrix__tfidf\u001b[0m \u001b[0;34m=\u001b[0m \u001b[0mtfidf_vectorizer\u001b[0m\u001b[0;34m.\u001b[0m\u001b[0mtransform\u001b[0m\u001b[0;34m(\u001b[0m\u001b[0mtest_texts_arr\u001b[0m\u001b[0;34m)\u001b[0m\u001b[0;34m\u001b[0m\u001b[0;34m\u001b[0m\u001b[0m\n\u001b[0m",
      "\u001b[0;31mNameError\u001b[0m: name 'test_texts_arr' is not defined"
     ]
    }
   ],
   "source": [
    "tfidf_vectorizer = TfidfVectorizer()\n",
    "\n",
    "train_feature_matrix_tfidf = tfidf_vectorizer.fit_transform(texts_array)\n",
    "test_feature_matrix__tfidf = tfidf_vectorizer.transform(test_texts_arr)"
   ]
  },
  {
   "cell_type": "code",
   "execution_count": null,
   "metadata": {
    "colab": {
     "base_uri": "https://localhost:8080/",
     "height": 197
    },
    "id": "yS_7RjpainYg",
    "outputId": "06ebb44b-81fe-4a0a-ce1f-e4e4fcfa9d5f"
   },
   "outputs": [
    {
     "ename": "NameError",
     "evalue": "ignored",
     "output_type": "error",
     "traceback": [
      "\u001b[0;31m---------------------------------------------------------------------------\u001b[0m",
      "\u001b[0;31mNameError\u001b[0m                                 Traceback (most recent call last)",
      "\u001b[0;32m<ipython-input-10-262f034a8015>\u001b[0m in \u001b[0;36m<module>\u001b[0;34m()\u001b[0m\n\u001b[1;32m      2\u001b[0m \u001b[0;34m\u001b[0m\u001b[0m\n\u001b[1;32m      3\u001b[0m \u001b[0mtrain_feature_matrix_count\u001b[0m \u001b[0;34m=\u001b[0m \u001b[0mcount_vectorizer\u001b[0m\u001b[0;34m.\u001b[0m\u001b[0mfit_transform\u001b[0m\u001b[0;34m(\u001b[0m\u001b[0mtexts_array\u001b[0m\u001b[0;34m)\u001b[0m\u001b[0;34m\u001b[0m\u001b[0;34m\u001b[0m\u001b[0m\n\u001b[0;32m----> 4\u001b[0;31m \u001b[0mtest_feature_matrix_count\u001b[0m \u001b[0;34m=\u001b[0m \u001b[0mcount_vectorizer\u001b[0m\u001b[0;34m.\u001b[0m\u001b[0mtransform\u001b[0m\u001b[0;34m(\u001b[0m\u001b[0mtest_texts_arr\u001b[0m\u001b[0;34m)\u001b[0m\u001b[0;34m\u001b[0m\u001b[0;34m\u001b[0m\u001b[0m\n\u001b[0m",
      "\u001b[0;31mNameError\u001b[0m: name 'test_texts_arr' is not defined"
     ]
    }
   ],
   "source": [
    "count_vectorizer = CountVectorizer()\n",
    "\n",
    "train_feature_matrix_count = count_vectorizer.fit_transform(texts_array)\n",
    "test_feature_matrix_count = count_vectorizer.transform(test_texts_arr)"
   ]
  },
  {
   "cell_type": "code",
   "execution_count": null,
   "metadata": {
    "id": "9_77d2qjb4BE"
   },
   "outputs": [],
   "source": [
    "target_values_train = newsgroups_train.target\n",
    "target_values_test = newsgroups_test.target"
   ]
  },
  {
   "cell_type": "markdown",
   "metadata": {
    "id": "_QrD0YMGi_6m"
   },
   "source": [
    "knn with count vectorizer"
   ]
  },
  {
   "cell_type": "code",
   "execution_count": null,
   "metadata": {
    "colab": {
     "base_uri": "https://localhost:8080/"
    },
    "id": "Mgr-kLV-i_gU",
    "outputId": "e2bb74aa-3aba-4d6b-816f-1247f55832a8"
   },
   "outputs": [
    {
     "name": "stdout",
     "output_type": "stream",
     "text": [
      "              precision    recall  f1-score   support\n",
      "\n",
      "           0       0.38      0.71      0.49       396\n",
      "           1       0.64      0.55      0.59       399\n",
      "           2       0.63      0.53      0.58       396\n",
      "           3       0.53      0.36      0.43       396\n",
      "           4       0.57      0.35      0.44       251\n",
      "\n",
      "    accuracy                           0.51      1838\n",
      "   macro avg       0.55      0.50      0.51      1838\n",
      "weighted avg       0.55      0.51      0.51      1838\n",
      "\n"
     ]
    }
   ],
   "source": [
    "knn_count = KNeighborsClassifier()\n",
    "\n",
    "knn_count.fit(train_feature_matrix_count, target_values_train)\n",
    "pred_count = knn_count.predict(test_feature_matrix_count)\n",
    "\n",
    "print(classification_report(target_values_test, pred_count))"
   ]
  },
  {
   "cell_type": "markdown",
   "metadata": {
    "id": "9zZAqSsvjEx9"
   },
   "source": [
    "knn with tfidf vectorizer"
   ]
  },
  {
   "cell_type": "code",
   "execution_count": null,
   "metadata": {
    "colab": {
     "base_uri": "https://localhost:8080/"
    },
    "id": "PMIWg2kOh4KU",
    "outputId": "ee95a483-0e80-43a1-b426-6acb60a720c2"
   },
   "outputs": [
    {
     "name": "stdout",
     "output_type": "stream",
     "text": [
      "              precision    recall  f1-score   support\n",
      "\n",
      "           0       0.93      0.91      0.92       396\n",
      "           1       0.98      0.90      0.94       399\n",
      "           2       0.84      0.90      0.87       396\n",
      "           3       0.94      0.65      0.77       396\n",
      "           4       0.57      0.88      0.69       251\n",
      "\n",
      "    accuracy                           0.85      1838\n",
      "   macro avg       0.85      0.85      0.84      1838\n",
      "weighted avg       0.88      0.85      0.85      1838\n",
      "\n"
     ]
    }
   ],
   "source": [
    "knn_tfidf = KNeighborsClassifier()\n",
    "\n",
    "knn_tfidf.fit(train_feature_matrix_tfidf, target_values_train)\n",
    "pred_knn = knn_tfidf.predict(test_feature_matrix__tfidf)\n",
    "\n",
    "print(classification_report(target_values_test, pred_knn))"
   ]
  },
  {
   "cell_type": "markdown",
   "metadata": {
    "id": "SPXe4VJCjmWC"
   },
   "source": [
    "## Способ 2 На основе моделей word2vec или Glove или fastText."
   ]
  },
  {
   "cell_type": "code",
   "execution_count": null,
   "metadata": {
    "colab": {
     "base_uri": "https://localhost:8080/"
    },
    "id": "3AVA47CSiKnB",
    "outputId": "34b686b1-7fd0-4e57-859e-a50d08865c96"
   },
   "outputs": [
    {
     "name": "stdout",
     "output_type": "stream",
     "text": [
      "[==================================================] 100.0% 66.0/66.0MB downloaded\n"
     ]
    }
   ],
   "source": [
    "import tqdm\n",
    "from gensim.models import Word2Vec\n",
    "import gensim.downloader\n",
    "# gensim.downloader.info()\n",
    "# glove_vectors = gensim.downloader.load('glove-twitter-25')\n",
    "glove_vectors = gensim.downloader.load('glove-wiki-gigaword-50')"
   ]
  },
  {
   "cell_type": "code",
   "execution_count": null,
   "metadata": {
    "id": "WfxUL2zDVEez"
   },
   "outputs": [],
   "source": [
    "class GloveTokenizer:\n",
    "  def __init__(self, glove_tokenizer):\n",
    "    self.glove = glove_tokenizer\n",
    "    self.token_length = 800\n",
    "    self.embedding_size = 50\n",
    "\n",
    "  def __getitem__(self, word):\n",
    "    try:\n",
    "      vector = glove_vectors.get_vector(word).reshape(1, self.embedding_size)\n",
    "    except KeyError as e:\n",
    "      vector = np.zeros((1, self.embedding_size))\n",
    "    return vector\n",
    "\n",
    "\n",
    "  def __padd(self, sentence):\n",
    "    padded_sentence = np.zeros((self.token_length, self.embedding_size))\n",
    "    for i, token in enumerate(sentence):\n",
    "        padded_sentence[i] = token\n",
    "    return padded_sentence\n",
    "  \n",
    "  def tokenize(self, sentence):\n",
    "    encoded_sentence = []\n",
    "    sentence = sentence.strip(' ').split(' ')\n",
    "    for i in sentence:\n",
    "      token = self.__getitem__(i)\n",
    "      encoded_sentence.append(token)    \n",
    "    return np.array(self.__padd(encoded_sentence), dtype=np.float16)\n",
    "\n",
    "tokenizer = GloveTokenizer(glove_vectors)    "
   ]
  },
  {
   "cell_type": "code",
   "execution_count": null,
   "metadata": {
    "colab": {
     "base_uri": "https://localhost:8080/"
    },
    "id": "yPdVpUtNxMxp",
    "outputId": "6944b91a-3585-429c-d9f2-516b123f8340"
   },
   "outputs": [
    {
     "name": "stdout",
     "output_type": "stream",
     "text": [
      "56 index 800 is out of bounds for axis 0 with size 800\n",
      "58 index 800 is out of bounds for axis 0 with size 800\n",
      "93 index 800 is out of bounds for axis 0 with size 800\n",
      "112 index 800 is out of bounds for axis 0 with size 800\n",
      "145 index 800 is out of bounds for axis 0 with size 800\n",
      "147 index 800 is out of bounds for axis 0 with size 800\n",
      "159 index 800 is out of bounds for axis 0 with size 800\n",
      "214 index 800 is out of bounds for axis 0 with size 800\n",
      "215 index 800 is out of bounds for axis 0 with size 800\n",
      "217 index 800 is out of bounds for axis 0 with size 800\n",
      "222 index 800 is out of bounds for axis 0 with size 800\n",
      "225 index 800 is out of bounds for axis 0 with size 800\n",
      "248 index 800 is out of bounds for axis 0 with size 800\n",
      "265 index 800 is out of bounds for axis 0 with size 800\n",
      "267 index 800 is out of bounds for axis 0 with size 800\n",
      "268 index 800 is out of bounds for axis 0 with size 800\n",
      "281 index 800 is out of bounds for axis 0 with size 800\n",
      "298 index 800 is out of bounds for axis 0 with size 800\n",
      "336 index 800 is out of bounds for axis 0 with size 800\n",
      "361 index 800 is out of bounds for axis 0 with size 800\n",
      "395 index 800 is out of bounds for axis 0 with size 800\n",
      "412 index 800 is out of bounds for axis 0 with size 800\n",
      "416 index 800 is out of bounds for axis 0 with size 800\n",
      "424 index 800 is out of bounds for axis 0 with size 800\n",
      "462 index 800 is out of bounds for axis 0 with size 800\n",
      "468 index 800 is out of bounds for axis 0 with size 800\n",
      "480 index 800 is out of bounds for axis 0 with size 800\n",
      "481 index 800 is out of bounds for axis 0 with size 800\n",
      "523 index 800 is out of bounds for axis 0 with size 800\n",
      "568 index 800 is out of bounds for axis 0 with size 800\n",
      "574 index 800 is out of bounds for axis 0 with size 800\n",
      "585 index 800 is out of bounds for axis 0 with size 800\n",
      "587 index 800 is out of bounds for axis 0 with size 800\n",
      "588 index 800 is out of bounds for axis 0 with size 800\n",
      "591 index 800 is out of bounds for axis 0 with size 800\n",
      "680 index 800 is out of bounds for axis 0 with size 800\n",
      "696 index 800 is out of bounds for axis 0 with size 800\n",
      "708 index 800 is out of bounds for axis 0 with size 800\n",
      "714 index 800 is out of bounds for axis 0 with size 800\n",
      "715 index 800 is out of bounds for axis 0 with size 800\n",
      "733 index 800 is out of bounds for axis 0 with size 800\n",
      "734 index 800 is out of bounds for axis 0 with size 800\n",
      "743 index 800 is out of bounds for axis 0 with size 800\n",
      "753 index 800 is out of bounds for axis 0 with size 800\n",
      "816 index 800 is out of bounds for axis 0 with size 800\n",
      "864 index 800 is out of bounds for axis 0 with size 800\n",
      "901 index 800 is out of bounds for axis 0 with size 800\n",
      "911 index 800 is out of bounds for axis 0 with size 800\n",
      "934 index 800 is out of bounds for axis 0 with size 800\n",
      "962 index 800 is out of bounds for axis 0 with size 800\n",
      "965 index 800 is out of bounds for axis 0 with size 800\n",
      "1015 index 800 is out of bounds for axis 0 with size 800\n",
      "1022 index 800 is out of bounds for axis 0 with size 800\n",
      "1112 index 800 is out of bounds for axis 0 with size 800\n",
      "1116 index 800 is out of bounds for axis 0 with size 800\n",
      "1155 index 800 is out of bounds for axis 0 with size 800\n",
      "1167 index 800 is out of bounds for axis 0 with size 800\n",
      "1170 index 800 is out of bounds for axis 0 with size 800\n",
      "1173 index 800 is out of bounds for axis 0 with size 800\n",
      "1181 index 800 is out of bounds for axis 0 with size 800\n",
      "1209 index 800 is out of bounds for axis 0 with size 800\n",
      "1265 index 800 is out of bounds for axis 0 with size 800\n",
      "1269 index 800 is out of bounds for axis 0 with size 800\n",
      "1292 index 800 is out of bounds for axis 0 with size 800\n",
      "1294 index 800 is out of bounds for axis 0 with size 800\n",
      "1309 index 800 is out of bounds for axis 0 with size 800\n",
      "1339 index 800 is out of bounds for axis 0 with size 800\n",
      "1357 index 800 is out of bounds for axis 0 with size 800\n",
      "1372 index 800 is out of bounds for axis 0 with size 800\n",
      "1398 index 800 is out of bounds for axis 0 with size 800\n",
      "1412 index 800 is out of bounds for axis 0 with size 800\n",
      "1413 index 800 is out of bounds for axis 0 with size 800\n",
      "1422 index 800 is out of bounds for axis 0 with size 800\n",
      "1426 index 800 is out of bounds for axis 0 with size 800\n",
      "1429 index 800 is out of bounds for axis 0 with size 800\n",
      "1442 index 800 is out of bounds for axis 0 with size 800\n",
      "1457 index 800 is out of bounds for axis 0 with size 800\n",
      "1462 index 800 is out of bounds for axis 0 with size 800\n",
      "1481 index 800 is out of bounds for axis 0 with size 800\n",
      "1490 index 800 is out of bounds for axis 0 with size 800\n",
      "1501 index 800 is out of bounds for axis 0 with size 800\n",
      "1527 index 800 is out of bounds for axis 0 with size 800\n",
      "1544 index 800 is out of bounds for axis 0 with size 800\n",
      "1551 index 800 is out of bounds for axis 0 with size 800\n",
      "1584 index 800 is out of bounds for axis 0 with size 800\n",
      "1586 index 800 is out of bounds for axis 0 with size 800\n",
      "1592 index 800 is out of bounds for axis 0 with size 800\n",
      "1605 index 800 is out of bounds for axis 0 with size 800\n",
      "1620 index 800 is out of bounds for axis 0 with size 800\n",
      "1625 index 800 is out of bounds for axis 0 with size 800\n",
      "1672 index 800 is out of bounds for axis 0 with size 800\n",
      "1728 index 800 is out of bounds for axis 0 with size 800\n",
      "1766 index 800 is out of bounds for axis 0 with size 800\n",
      "1781 index 800 is out of bounds for axis 0 with size 800\n",
      "1797 index 800 is out of bounds for axis 0 with size 800\n",
      "1804 index 800 is out of bounds for axis 0 with size 800\n",
      "1811 index 800 is out of bounds for axis 0 with size 800\n",
      "1812 index 800 is out of bounds for axis 0 with size 800\n",
      "1819 index 800 is out of bounds for axis 0 with size 800\n",
      "1825 index 800 is out of bounds for axis 0 with size 800\n",
      "1832 index 800 is out of bounds for axis 0 with size 800\n",
      "1854 index 800 is out of bounds for axis 0 with size 800\n",
      "1883 index 800 is out of bounds for axis 0 with size 800\n",
      "1891 index 800 is out of bounds for axis 0 with size 800\n",
      "1908 index 800 is out of bounds for axis 0 with size 800\n",
      "1924 index 800 is out of bounds for axis 0 with size 800\n",
      "1950 index 800 is out of bounds for axis 0 with size 800\n",
      "1958 index 800 is out of bounds for axis 0 with size 800\n",
      "2005 index 800 is out of bounds for axis 0 with size 800\n",
      "2061 index 800 is out of bounds for axis 0 with size 800\n",
      "2086 index 800 is out of bounds for axis 0 with size 800\n",
      "2104 index 800 is out of bounds for axis 0 with size 800\n",
      "2105 index 800 is out of bounds for axis 0 with size 800\n",
      "2138 index 800 is out of bounds for axis 0 with size 800\n",
      "2149 index 800 is out of bounds for axis 0 with size 800\n",
      "2167 index 800 is out of bounds for axis 0 with size 800\n",
      "2175 index 800 is out of bounds for axis 0 with size 800\n",
      "2180 index 800 is out of bounds for axis 0 with size 800\n",
      "2220 index 800 is out of bounds for axis 0 with size 800\n",
      "2229 index 800 is out of bounds for axis 0 with size 800\n",
      "2243 index 800 is out of bounds for axis 0 with size 800\n",
      "2260 index 800 is out of bounds for axis 0 with size 800\n",
      "2262 index 800 is out of bounds for axis 0 with size 800\n",
      "2263 index 800 is out of bounds for axis 0 with size 800\n",
      "2304 index 800 is out of bounds for axis 0 with size 800\n",
      "2328 index 800 is out of bounds for axis 0 with size 800\n",
      "2354 index 800 is out of bounds for axis 0 with size 800\n",
      "2356 index 800 is out of bounds for axis 0 with size 800\n",
      "2373 index 800 is out of bounds for axis 0 with size 800\n",
      "2391 index 800 is out of bounds for axis 0 with size 800\n",
      "2419 index 800 is out of bounds for axis 0 with size 800\n",
      "2428 index 800 is out of bounds for axis 0 with size 800\n",
      "2462 index 800 is out of bounds for axis 0 with size 800\n",
      "2466 index 800 is out of bounds for axis 0 with size 800\n",
      "2469 index 800 is out of bounds for axis 0 with size 800\n",
      "2487 index 800 is out of bounds for axis 0 with size 800\n",
      "2500 index 800 is out of bounds for axis 0 with size 800\n",
      "2516 index 800 is out of bounds for axis 0 with size 800\n",
      "2517 index 800 is out of bounds for axis 0 with size 800\n",
      "2559 index 800 is out of bounds for axis 0 with size 800\n",
      "2603 index 800 is out of bounds for axis 0 with size 800\n",
      "2616 index 800 is out of bounds for axis 0 with size 800\n",
      "2628 index 800 is out of bounds for axis 0 with size 800\n",
      "2652 index 800 is out of bounds for axis 0 with size 800\n",
      "2654 index 800 is out of bounds for axis 0 with size 800\n",
      "2669 index 800 is out of bounds for axis 0 with size 800\n",
      "2678 index 800 is out of bounds for axis 0 with size 800\n",
      "2683 index 800 is out of bounds for axis 0 with size 800\n",
      "2743 index 800 is out of bounds for axis 0 with size 800\n",
      "2754 index 800 is out of bounds for axis 0 with size 800\n",
      "(2610, 800, 50)\n"
     ]
    },
    {
     "data": {
      "text/plain": [
       "(2610, 40000)"
      ]
     },
     "execution_count": 78,
     "metadata": {
      "tags": []
     },
     "output_type": "execute_result"
    }
   ],
   "source": [
    "def prepare(t):\n",
    "  # t = ' '.join([i.strip().lower() for i in t.split(' ')])\n",
    "  t = re.sub(r'[^a-zA-Z0-9 \\n]', '', t)\n",
    "  t = re.sub('\\s+', ' ', t)\n",
    "  lemmas = [token.lemma_.lower() for token in nlp(t) if token not in stopwords_eng]\n",
    "  t = ' '.join(lemmas)\n",
    "  vectors = tokenizer.tokenize(t)\n",
    "  return vectors, len(lemmas)\n",
    "\n",
    "vectors_array_train = []\n",
    "labels_train = []\n",
    "\n",
    "for enum, text, label in zip(range(len(newsgroups_train.data)), newsgroups_train.data, newsgroups_train.target):\n",
    "  try:\n",
    "    vector, length = prepare(text)\n",
    "    # print(vector, vector.shape)\n",
    "    vectors_array_train.append(vector)\n",
    "    labels_train.append(label)\n",
    "  except IndexError as e:\n",
    "    print(enum, e)\n",
    "    continue\n",
    "\n",
    "\n",
    "vectors_array_train = np.array(vectors_array_train)\n",
    "print(vectors_array_train.shape)\n",
    "train_data = vectors_array_train.reshape((-1, vectors_array_train.shape[1]*vectors_array_train.shape[2]))\n",
    "train_data.shape"
   ]
  },
  {
   "cell_type": "code",
   "execution_count": null,
   "metadata": {
    "colab": {
     "base_uri": "https://localhost:8080/"
    },
    "id": "KVZdcUn9YB0b",
    "outputId": "b4659b5e-c4d0-4d4b-8cd8-8a8f000e14da"
   },
   "outputs": [
    {
     "name": "stdout",
     "output_type": "stream",
     "text": [
      "67 index 800 is out of bounds for axis 0 with size 800\n",
      "76 index 800 is out of bounds for axis 0 with size 800\n",
      "124 index 800 is out of bounds for axis 0 with size 800\n",
      "137 index 800 is out of bounds for axis 0 with size 800\n",
      "155 index 800 is out of bounds for axis 0 with size 800\n",
      "187 index 800 is out of bounds for axis 0 with size 800\n",
      "292 index 800 is out of bounds for axis 0 with size 800\n",
      "298 index 800 is out of bounds for axis 0 with size 800\n",
      "350 index 800 is out of bounds for axis 0 with size 800\n",
      "432 index 800 is out of bounds for axis 0 with size 800\n",
      "435 index 800 is out of bounds for axis 0 with size 800\n",
      "458 index 800 is out of bounds for axis 0 with size 800\n",
      "476 index 800 is out of bounds for axis 0 with size 800\n",
      "484 index 800 is out of bounds for axis 0 with size 800\n",
      "525 index 800 is out of bounds for axis 0 with size 800\n",
      "556 index 800 is out of bounds for axis 0 with size 800\n",
      "558 index 800 is out of bounds for axis 0 with size 800\n",
      "618 index 800 is out of bounds for axis 0 with size 800\n",
      "680 index 800 is out of bounds for axis 0 with size 800\n",
      "683 index 800 is out of bounds for axis 0 with size 800\n",
      "710 index 800 is out of bounds for axis 0 with size 800\n",
      "715 index 800 is out of bounds for axis 0 with size 800\n",
      "720 index 800 is out of bounds for axis 0 with size 800\n",
      "755 index 800 is out of bounds for axis 0 with size 800\n",
      "778 index 800 is out of bounds for axis 0 with size 800\n",
      "780 index 800 is out of bounds for axis 0 with size 800\n",
      "802 index 800 is out of bounds for axis 0 with size 800\n",
      "819 index 800 is out of bounds for axis 0 with size 800\n",
      "825 index 800 is out of bounds for axis 0 with size 800\n",
      "832 index 800 is out of bounds for axis 0 with size 800\n",
      "836 index 800 is out of bounds for axis 0 with size 800\n",
      "862 index 800 is out of bounds for axis 0 with size 800\n",
      "882 index 800 is out of bounds for axis 0 with size 800\n",
      "919 index 800 is out of bounds for axis 0 with size 800\n",
      "956 index 800 is out of bounds for axis 0 with size 800\n",
      "960 index 800 is out of bounds for axis 0 with size 800\n",
      "989 index 800 is out of bounds for axis 0 with size 800\n",
      "1064 index 800 is out of bounds for axis 0 with size 800\n",
      "1101 index 800 is out of bounds for axis 0 with size 800\n",
      "1108 index 800 is out of bounds for axis 0 with size 800\n",
      "1152 index 800 is out of bounds for axis 0 with size 800\n",
      "1187 index 800 is out of bounds for axis 0 with size 800\n",
      "1193 index 800 is out of bounds for axis 0 with size 800\n",
      "1293 index 800 is out of bounds for axis 0 with size 800\n",
      "1313 index 800 is out of bounds for axis 0 with size 800\n",
      "1337 index 800 is out of bounds for axis 0 with size 800\n",
      "1386 index 800 is out of bounds for axis 0 with size 800\n",
      "1415 index 800 is out of bounds for axis 0 with size 800\n",
      "1443 index 800 is out of bounds for axis 0 with size 800\n",
      "1455 index 800 is out of bounds for axis 0 with size 800\n",
      "1463 index 800 is out of bounds for axis 0 with size 800\n",
      "1477 index 800 is out of bounds for axis 0 with size 800\n",
      "1482 index 800 is out of bounds for axis 0 with size 800\n",
      "1517 index 800 is out of bounds for axis 0 with size 800\n",
      "1529 index 800 is out of bounds for axis 0 with size 800\n",
      "1552 index 800 is out of bounds for axis 0 with size 800\n",
      "1560 index 800 is out of bounds for axis 0 with size 800\n",
      "1561 index 800 is out of bounds for axis 0 with size 800\n",
      "1629 index 800 is out of bounds for axis 0 with size 800\n",
      "1631 index 800 is out of bounds for axis 0 with size 800\n",
      "1639 index 800 is out of bounds for axis 0 with size 800\n",
      "1664 index 800 is out of bounds for axis 0 with size 800\n",
      "1699 index 800 is out of bounds for axis 0 with size 800\n",
      "1709 index 800 is out of bounds for axis 0 with size 800\n",
      "1717 index 800 is out of bounds for axis 0 with size 800\n",
      "1770 index 800 is out of bounds for axis 0 with size 800\n",
      "1828 index 800 is out of bounds for axis 0 with size 800\n",
      "1837 index 800 is out of bounds for axis 0 with size 800\n"
     ]
    }
   ],
   "source": [
    "vectors_array_test = []\n",
    "labels_test= []\n",
    "\n",
    "for enum, text, label in zip(range(len(newsgroups_test.data)), newsgroups_test.data, newsgroups_test.target):\n",
    "  try:\n",
    "    vector, length = prepare(text)\n",
    "    vectors_array_test.append(vector)\n",
    "    labels_test.append(label)\n",
    "  except IndexError as e:\n",
    "    print(enum, e)\n",
    "    continue"
   ]
  },
  {
   "cell_type": "code",
   "execution_count": null,
   "metadata": {
    "colab": {
     "base_uri": "https://localhost:8080/"
    },
    "id": "E-U8YXNCh9ar",
    "outputId": "57a73eba-8ee9-48f1-d08d-734d1b0c3bb8"
   },
   "outputs": [
    {
     "data": {
      "text/plain": [
       "(1770, 40000)"
      ]
     },
     "execution_count": 82,
     "metadata": {
      "tags": []
     },
     "output_type": "execute_result"
    }
   ],
   "source": [
    "vectors_array_test = np.array(vectors_array_test)\n",
    "test_data = vectors_array_test.reshape((-1, vectors_array_test.shape[1]*vectors_array_test.shape[2]))\n",
    "test_data.shape"
   ]
  },
  {
   "cell_type": "code",
   "execution_count": null,
   "metadata": {
    "colab": {
     "base_uri": "https://localhost:8080/"
    },
    "id": "67smIprhlUvz",
    "outputId": "6582a8a6-b7f4-4235-bbe8-d786a0862992"
   },
   "outputs": [
    {
     "data": {
      "text/plain": [
       "KNeighborsClassifier(algorithm='auto', leaf_size=30, metric='minkowski',\n",
       "                     metric_params=None, n_jobs=None, n_neighbors=5, p=2,\n",
       "                     weights='uniform')"
      ]
     },
     "execution_count": 83,
     "metadata": {
      "tags": []
     },
     "output_type": "execute_result"
    }
   ],
   "source": [
    "from sklearn.neighbors import KNeighborsClassifier\n",
    "\n",
    "knn_clf = KNeighborsClassifier()\n",
    "\n",
    "knn_clf.fit(train_data, labels_train)"
   ]
  },
  {
   "cell_type": "code",
   "execution_count": null,
   "metadata": {
    "colab": {
     "base_uri": "https://localhost:8080/"
    },
    "id": "BN71EOwUx0iP",
    "outputId": "f93be7b3-b63e-48c2-a1ea-477778e7db66"
   },
   "outputs": [
    {
     "name": "stdout",
     "output_type": "stream",
     "text": [
      "              precision    recall  f1-score   support\n",
      "\n",
      "           0       0.31      0.70      0.43       172\n",
      "           1       0.59      0.25      0.36       173\n",
      "           2       0.46      0.44      0.45       179\n",
      "           3       0.38      0.17      0.24       162\n",
      "           4       0.33      0.28      0.30       114\n",
      "\n",
      "    accuracy                           0.38       800\n",
      "   macro avg       0.42      0.37      0.36       800\n",
      "weighted avg       0.42      0.38      0.36       800\n",
      "\n"
     ]
    }
   ],
   "source": [
    "pred = knn_clf.predict(test_data[:800])\n",
    "\n",
    "print(classification_report(labels_test[:800], pred))"
   ]
  },
  {
   "cell_type": "code",
   "execution_count": null,
   "metadata": {
    "id": "fYIc5wM9Ya45"
   },
   "outputs": [],
   "source": []
  }
 ],
 "metadata": {
  "colab": {
   "collapsed_sections": [
    "nF7eplbYNT1E",
    "iw6he3I2bX6r",
    "SPXe4VJCjmWC"
   ],
   "name": "MMO_lab_6.ipynb",
   "provenance": [],
   "toc_visible": true
  },
  "kernelspec": {
   "display_name": "Python 3",
   "language": "python",
   "name": "python3"
  },
  "language_info": {
   "codemirror_mode": {
    "name": "ipython",
    "version": 3
   },
   "file_extension": ".py",
   "mimetype": "text/x-python",
   "name": "python",
   "nbconvert_exporter": "python",
   "pygments_lexer": "ipython3",
   "version": "3.8.6"
  }
 },
 "nbformat": 4,
 "nbformat_minor": 1
}
