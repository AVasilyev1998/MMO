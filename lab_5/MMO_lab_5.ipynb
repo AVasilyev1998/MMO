{
 "cells": [
  {
   "cell_type": "markdown",
   "metadata": {
    "id": "q-BtM2SqM3jz"
   },
   "source": [
    "# Лабораторная работа №5\n",
    "## Васильев А.Р. ИУ5-24М\n",
    "\n",
    "### Цель лабораторной работы: изучение методов предобработки текстов.\n",
    "\n",
    "### Требования к отчету:\n",
    "#### Отчет по лабораторной работе должен содержать:\n",
    "\n",
    "- титульный лист;\n",
    "- описание задания;\n",
    "- текст программы;\n",
    "- экранные формы с примерами выполнения программы.\n",
    "#### Задание - для произвольного предложения или текста решите следующие задачи:\n",
    "\n",
    "- Токенизация;\n",
    "- Частеречная разметка;\n",
    "- Лемматизация;\n",
    "- Выделение (распознавание) именованных сущностей;\n",
    "- Разбор предложения.\n",
    "\n"
   ]
  },
  {
   "cell_type": "code",
   "execution_count": 52,
   "metadata": {
    "colab": {
     "base_uri": "https://localhost:8080/"
    },
    "id": "PB7IF6k9M3PU",
    "outputId": "01c556e9-a9e3-4776-d5d1-b30bf6a986ae"
   },
   "outputs": [
    {
     "name": "stdout",
     "output_type": "stream",
     "text": [
      "[nltk_data] Downloading package punkt to /root/nltk_data...\n",
      "[nltk_data]   Package punkt is already up-to-date!\n"
     ]
    }
   ],
   "source": [
    "import nltk\n",
    "import spacy\n",
    "import numpy as np\n",
    "from sklearn.datasets import fetch_20newsgroups\n",
    "nltk.download('punkt')\n",
    "from nltk import tokenize\n",
    "import re"
   ]
  },
  {
   "cell_type": "markdown",
   "metadata": {
    "id": "nUIt4hXaM2yP"
   },
   "source": [
    "## Будем использовать датасет 20 newsgroups"
   ]
  },
  {
   "cell_type": "code",
   "execution_count": 53,
   "metadata": {
    "id": "N4izXsLUIPKJ"
   },
   "outputs": [],
   "source": [
    "categories = [\"rec.autos\", \"rec.sport.hockey\", \"sci.crypt\", \"sci.med\", \"talk.religion.misc\"]\n",
    "newsgroups_train = fetch_20newsgroups(subset='train', categories=categories)\n",
    "newsgroups_test = fetch_20newsgroups(subset='test', categories=categories)"
   ]
  },
  {
   "cell_type": "code",
   "execution_count": 54,
   "metadata": {
    "id": "eVfbL7XzKSvb"
   },
   "outputs": [],
   "source": [
    "unique, frequency = np.unique(newsgroups_train.target, \n",
    "                              return_counts = True)"
   ]
  },
  {
   "cell_type": "code",
   "execution_count": 55,
   "metadata": {
    "colab": {
     "base_uri": "https://localhost:8080/"
    },
    "id": "NU4064dJLhI3",
    "outputId": "294b1d50-abd0-42d0-ed44-ae9e6f33f8fd"
   },
   "outputs": [
    {
     "name": "stdout",
     "output_type": "stream",
     "text": [
      "value: 0, count: 594\n",
      "value: 1, count: 600\n",
      "value: 2, count: 595\n",
      "value: 3, count: 594\n",
      "value: 4, count: 377\n"
     ]
    }
   ],
   "source": [
    "for l, f in zip(unique, frequency):\n",
    "  print(f'value: {l}, count: {f}')"
   ]
  },
  {
   "cell_type": "code",
   "execution_count": 56,
   "metadata": {
    "colab": {
     "base_uri": "https://localhost:8080/"
    },
    "id": "oYLE19elMQZz",
    "outputId": "b55b3718-8470-42a3-b063-aa2f7c0a33d8"
   },
   "outputs": [
    {
     "name": "stdout",
     "output_type": "stream",
     "text": [
      "Tokenizers NLTK have\n",
      "BlanklineTokenizer\n",
      "LineTokenizer\n",
      "MWETokenizer\n",
      "PunktSentenceTokenizer\n",
      "RegexpTokenizer\n",
      "ReppTokenizer\n",
      "SExprTokenizer\n",
      "SpaceTokenizer\n",
      "StanfordSegmenter\n",
      "TabTokenizer\n",
      "TextTilingTokenizer\n",
      "ToktokTokenizer\n",
      "TreebankWordTokenizer\n",
      "TweetTokenizer\n",
      "WhitespaceTokenizer\n",
      "WordPunctTokenizer\n"
     ]
    }
   ],
   "source": [
    "print('Tokenizers NLTK have')\n",
    "for i in dir(tokenize)[:16]:\n",
    "  print(i)"
   ]
  },
  {
   "cell_type": "markdown",
   "metadata": {
    "id": "nF7eplbYNT1E"
   },
   "source": [
    "## Токенизация"
   ]
  },
  {
   "cell_type": "code",
   "execution_count": 57,
   "metadata": {
    "colab": {
     "base_uri": "https://localhost:8080/"
    },
    "id": "Jy1AP9w9MZyl",
    "outputId": "8fec5858-ba09-49f6-d58c-2d01eb7419e2"
   },
   "outputs": [
    {
     "name": "stdout",
     "output_type": "stream",
     "text": [
      "From: davec@ECE.Concordia.CA (Dave Chu)\n",
      "Subject: WANTED: OPINIONS ON 75 MG \n",
      "Nntp-Posting-Host: dreams.ece.concordia.ca\n",
      "Organization: ECE - Concordia University\n",
      "Lines: 14\n",
      "\n",
      "I was wondering if anyone out in net-land have any opinions on MGs\n",
      "in general.  I know they are not the most reliable cars around but\n",
      "summer is approaching and they are convertibles `8^).  I'm interested\n",
      "in a 75 MG but any opinions on MGs would be appreciated.  Thanks.\n",
      "\n",
      "Dave \n",
      "                                          |\\ |     | |                       \n",
      "___________________________/\\  /\\  /\\_____| \\|_____| |_____   ___  ___   ___\n",
      "  Dave Kai-Chui Chu          \\/  \\/       | /|     | |       |    |     |\n",
      "  Dept. of Elec. & Comp. Eng.             |/ |     | |       |--  |     |--\n",
      "  Concordia University                  Voice:(514)848-3115  |___ |___  |___\n",
      "  1455 de Maisonneuve W. H915           Fax:  (514)848-2802\n",
      "  Montreal, Quebec, Canada H3G 1M8      Email:davec@ece.concordia.ca\n",
      "~~~~~~~~~~~~~~~~~~~~~~~~~~~~~~~~~~~~~~~~~~~~~~~~~~~~~~~~~~~~~~~~~~~~~~~~~~~~\n",
      "\n",
      "From davecECE.Concordia.CA Dave Chu\n",
      "Subject WANTED OPINIONS ON 75 MG \n",
      "NntpPostingHost dreams.ece.concordia.ca\n",
      "Organization ECE  Concordia University\n",
      "Lines 14\n",
      "\n",
      "I was wondering if anyone out in netland have any opinions on MGs\n",
      "in general.  I know they are not the most reliable cars around but\n",
      "summer is approaching and they are convertibles 8.  Im interested\n",
      "in a 75 MG but any opinions on MGs would be appreciated.  Thanks.\n",
      "\n",
      "Dave \n",
      "                                                                        \n",
      "              \n",
      "  Dave KaiChui Chu                                          \n",
      "  Dept. of Elec.  Comp. Eng.                                  \n",
      "  Concordia University                  Voice5148483115     \n",
      "  1455 de Maisonneuve W. H915           Fax  5148482802\n",
      "  Montreal Quebec Canada H3G 1M8      Emaildavecece.concordia.ca\n",
      "\n",
      "\n"
     ]
    }
   ],
   "source": [
    "text = newsgroups_train.data[0] \n",
    "print(text)\n",
    "\n",
    "cleaned_text = re.sub('[^a-zA-Z0-9 \\n\\.]', '', text)\n",
    "print(cleaned_text)"
   ]
  },
  {
   "cell_type": "code",
   "execution_count": 60,
   "metadata": {
    "id": "LirG_wtMNxBh"
   },
   "outputs": [],
   "source": [
    "tokenizer_wp = nltk.WordPunctTokenizer()\n",
    "tokens = tokenizer_wp.tokenize(cleaned_text)"
   ]
  },
  {
   "cell_type": "code",
   "execution_count": 63,
   "metadata": {
    "id": "lL6uVEv4P0-D"
   },
   "outputs": [],
   "source": [
    "from spacy.lang.en import English\n",
    "import spacy\n",
    "nlp = spacy.load(\"en_core_web_sm\")\n",
    "spacy_text1 = nlp(cleaned_text)"
   ]
  },
  {
   "cell_type": "markdown",
   "metadata": {
    "id": "wKNVm-wWPPa2"
   },
   "source": [
    "## Частеречная разметка (Part-Of-Speech tagging, POS-tagging)"
   ]
  },
  {
   "cell_type": "code",
   "execution_count": 64,
   "metadata": {
    "colab": {
     "base_uri": "https://localhost:8080/"
    },
    "id": "fJriqy4gN8H1",
    "outputId": "2030fb07-c478-4151-e256-19f65d19a158"
   },
   "outputs": [
    {
     "name": "stdout",
     "output_type": "stream",
     "text": [
      "From - ADP - ROOT\n",
      "davecECE.Concordia - PROPN - pobj\n",
      ". - PUNCT - punct\n",
      "CA - PROPN - compound\n",
      "Dave - PROPN - compound\n",
      "Chu - PROPN - ROOT\n",
      "\n",
      " - SPACE - \n",
      "Subject - PROPN - compound\n",
      "WANTED - PROPN - compound\n",
      "OPINIONS - PROPN - ROOT\n",
      "ON - ADP - prep\n",
      "75 - NUM - nummod\n",
      "MG - PROPN - pobj\n",
      "\n",
      " - SPACE - \n",
      "NntpPostingHost - PROPN - ROOT\n",
      "dreams.ece.concordia.ca - PROPN - nmod\n",
      "\n",
      " - SPACE - \n",
      "Organization - PROPN - compound\n",
      "ECE - PROPN - nmod\n",
      "  - SPACE - \n",
      "Concordia - PROPN - compound\n",
      "University - PROPN - ROOT\n",
      "\n",
      " - SPACE - \n",
      "Lines - NOUN - ROOT\n",
      "14 - NUM - nummod\n",
      "\n",
      "\n",
      " - SPACE - \n",
      "I - PRON - nsubj\n",
      "was - AUX - aux\n",
      "wondering - VERB - ROOT\n",
      "if - SCONJ - mark\n",
      "anyone - PRON - nsubj\n",
      "out - ADP - prep\n",
      "in - ADP - prep\n",
      "netland - NOUN - pobj\n",
      "have - AUX - ccomp\n",
      "any - DET - det\n",
      "opinions - NOUN - dobj\n",
      "on - ADP - prep\n",
      "MGs - PROPN - pobj\n",
      "\n",
      " - SPACE - \n",
      "in - ADP - prep\n",
      "general - ADJ - amod\n",
      ". - PUNCT - punct\n",
      "  - SPACE - \n",
      "I - PRON - nsubj\n",
      "know - VERB - ROOT\n",
      "they - PRON - nsubj\n",
      "are - AUX - ccomp\n",
      "not - PART - neg\n",
      "the - DET - det\n",
      "most - ADV - advmod\n",
      "reliable - ADJ - amod\n",
      "cars - NOUN - attr\n",
      "around - ADV - prep\n",
      "but - CCONJ - cc\n",
      "\n",
      " - SPACE - \n",
      "summer - NOUN - nsubj\n",
      "is - AUX - aux\n",
      "approaching - VERB - ROOT\n",
      "and - CCONJ - cc\n",
      "they - PRON - nsubj\n",
      "are - AUX - ROOT\n",
      "convertibles - NOUN - attr\n",
      "8 - NUM - nummod\n",
      ". - PUNCT - punct\n",
      "  - SPACE - \n",
      "I - PRON - nsubj\n",
      "m - VERB - npadvmod\n",
      "interested - ADJ - ROOT\n",
      "\n",
      " - SPACE - \n",
      "in - ADP - prep\n",
      "a - DET - det\n",
      "75 - NUM - nummod\n",
      "MG - PROPN - pobj\n",
      "but - CCONJ - cc\n",
      "any - DET - det\n",
      "opinions - NOUN - nsubjpass\n",
      "on - ADP - prep\n",
      "MGs - NOUN - pobj\n",
      "would - VERB - aux\n",
      "be - AUX - auxpass\n",
      "appreciated - VERB - conj\n",
      ". - PUNCT - punct\n",
      "  - SPACE - \n",
      "Thanks - NOUN - ROOT\n",
      ". - PUNCT - punct\n",
      "\n",
      "\n",
      " - SPACE - \n",
      "Dave - PROPN - ROOT\n",
      "\n",
      "                                                                        \n",
      "              \n",
      "   - SPACE - \n",
      "Dave - PROPN - compound\n",
      "KaiChui - PROPN - compound\n",
      "Chu - PROPN - ROOT\n",
      "                                         \n",
      "   - SPACE - \n",
      "Dept - PROPN - dep\n",
      ". - PROPN - appos\n",
      "of - ADP - prep\n",
      "Elec - PROPN - pobj\n",
      ". - PUNCT - punct\n",
      "  - SPACE - \n",
      "Comp - PROPN - appos\n",
      ". - PUNCT - punct\n",
      "Eng - NOUN - ROOT\n",
      ". - PUNCT - punct\n",
      "                                 \n",
      "   - SPACE - \n",
      "Concordia - PROPN - compound\n",
      "University - PROPN - compound\n",
      "                  - SPACE - \n",
      "Voice5148483115 - PROPN - ROOT\n",
      "    \n",
      "   - SPACE - \n",
      "1455 - NUM - appos\n",
      "de - PROPN - punct\n",
      "Maisonneuve - PROPN - compound\n",
      "W. - PROPN - compound\n",
      "H915 - PROPN - intj\n",
      "           - SPACE - \n",
      "Fax - PROPN - ROOT\n",
      "  - SPACE - \n",
      "5148482802 - NUM - nummod\n",
      "\n",
      "   - SPACE - \n",
      "Montreal - PROPN - compound\n",
      "Quebec - PROPN - compound\n",
      "Canada - PROPN - ROOT\n",
      "H3 - PROPN - ROOT\n",
      "G - PROPN - ROOT\n",
      "1M8 - PROPN - nummod\n",
      "      - SPACE - \n",
      "Emaildavecece.concordia.ca - PROPN - ROOT\n",
      "\n",
      "\n",
      " - SPACE - \n"
     ]
    }
   ],
   "source": [
    "for token in spacy_text1:\n",
    "    print('{} - {} - {}'.format(token.text, token.pos_, token.dep_))"
   ]
  },
  {
   "cell_type": "markdown",
   "metadata": {
    "id": "pQLhvfwpQMOB"
   },
   "source": [
    "## Лемматизация"
   ]
  },
  {
   "cell_type": "code",
   "execution_count": 65,
   "metadata": {
    "colab": {
     "base_uri": "https://localhost:8080/"
    },
    "id": "iZOB0JMlPOxB",
    "outputId": "0c1d8148-e21d-438c-a695-925b17c22fcc"
   },
   "outputs": [
    {
     "name": "stdout",
     "output_type": "stream",
     "text": [
      "From 7831658034963690409 from\n",
      "davecECE.Concordia 14523868423411891367 davecECE.Concordia\n",
      ". 12646065887601541794 .\n",
      "CA 8902657483871908647 CA\n",
      "Dave 15237984737769454380 Dave\n",
      "Chu 11811199503084153866 Chu\n",
      "\n",
      " 962983613142996970 \n",
      "\n",
      "Subject 10828730662571105685 Subject\n",
      "WANTED 7965972062204850113 WANTED\n",
      "OPINIONS 3594955551980145801 OPINIONS\n",
      "ON 5640369432778651323 on\n",
      "75 6571748649314214940 75\n",
      "MG 7932641007965793912 MG\n",
      "\n",
      " 962983613142996970 \n",
      "\n",
      "NntpPostingHost 11894535311416990441 NntpPostingHost\n",
      "dreams.ece.concordia.ca 10305115850927697332 dreams.ece.concordia.ca\n",
      "\n",
      " 962983613142996970 \n",
      "\n",
      "Organization 685973656875656808 Organization\n",
      "ECE 366147149345845489 ECE\n",
      "  8532415787641010193  \n",
      "Concordia 9848136328145832432 Concordia\n",
      "University 986123062041987797 University\n",
      "\n",
      " 962983613142996970 \n",
      "\n",
      "Lines 9545763306533606446 line\n",
      "14 9798277639574861054 14\n",
      "\n",
      "\n",
      " 908432558851201422 \n",
      "\n",
      "\n",
      "I 561228191312463089 -PRON-\n",
      "was 10382539506755952630 be\n",
      "wondering 17230765341337091640 wonder\n",
      "if 12446819118446800910 if\n",
      "anyone 444920330522528470 anyone\n",
      "out 1696981056005371314 out\n",
      "in 3002984154512732771 in\n",
      "netland 9247405803685480328 netland\n",
      "have 14692702688101715474 have\n",
      "any 13148361048351484388 any\n",
      "opinions 14536103007527724270 opinion\n",
      "on 5640369432778651323 on\n",
      "MGs 12856644686425764130 MGs\n",
      "\n",
      " 962983613142996970 \n",
      "\n",
      "in 3002984154512732771 in\n",
      "general 4476931165537661438 general\n",
      ". 12646065887601541794 .\n",
      "  8532415787641010193  \n",
      "I 561228191312463089 -PRON-\n",
      "know 7743033266031195906 know\n",
      "they 561228191312463089 -PRON-\n",
      "are 10382539506755952630 be\n",
      "not 447765159362469301 not\n",
      "the 7425985699627899538 the\n",
      "most 11104729984170784471 most\n",
      "reliable 10751479260089776908 reliable\n",
      "cars 17545852598994811774 car\n",
      "around 3194226484742107227 around\n",
      "but 14560795576765492085 but\n",
      "\n",
      " 962983613142996970 \n",
      "\n",
      "summer 14937584329648122761 summer\n",
      "is 10382539506755952630 be\n",
      "approaching 13730216158190965 approach\n",
      "and 2283656566040971221 and\n",
      "they 561228191312463089 -PRON-\n",
      "are 10382539506755952630 be\n",
      "convertibles 3964087356174508259 convertible\n",
      "8 5117079446564601502 8\n",
      ". 12646065887601541794 .\n",
      "  8532415787641010193  \n",
      "I 561228191312463089 -PRON-\n",
      "m 10382539506755952630 be\n",
      "interested 207255285173834361 interested\n",
      "\n",
      " 962983613142996970 \n",
      "\n",
      "in 3002984154512732771 in\n",
      "a 11901859001352538922 a\n",
      "75 6571748649314214940 75\n",
      "MG 7932641007965793912 MG\n",
      "but 14560795576765492085 but\n",
      "any 13148361048351484388 any\n",
      "opinions 14536103007527724270 opinion\n",
      "on 5640369432778651323 on\n",
      "MGs 722646293792979593 mg\n",
      "would 6992604926141104606 would\n",
      "be 10382539506755952630 be\n",
      "appreciated 11915230412772266274 appreciate\n",
      ". 12646065887601541794 .\n",
      "  8532415787641010193  \n",
      "Thanks 8960195134057108264 thank\n",
      ". 12646065887601541794 .\n",
      "\n",
      "\n",
      " 908432558851201422 \n",
      "\n",
      "\n",
      "Dave 15237984737769454380 Dave\n",
      "\n",
      "                                                                        \n",
      "              \n",
      "   1783162232174459540 \n",
      "                                                                        \n",
      "              \n",
      "  \n",
      "Dave 15237984737769454380 Dave\n",
      "KaiChui 8748783432222834126 KaiChui\n",
      "Chu 11811199503084153866 Chu\n",
      "                                         \n",
      "   8029423334175508679                                          \n",
      "  \n",
      "Dept 7320582945065383184 Dept\n",
      ". 12646065887601541794 .\n",
      "of 886050111519832510 of\n",
      "Elec 1958910702233705206 Elec\n",
      ". 12646065887601541794 .\n",
      "  8532415787641010193  \n",
      "Comp 6958077383709244653 Comp\n",
      ". 12646065887601541794 .\n",
      "Eng 528727853987738021 eng\n",
      ". 12646065887601541794 .\n",
      "                                 \n",
      "   16621976668123663401                                  \n",
      "  \n",
      "Concordia 9848136328145832432 Concordia\n",
      "University 986123062041987797 University\n",
      "                  9687856286444532230                  \n",
      "Voice5148483115 17156059720282402116 Voice5148483115\n",
      "    \n",
      "   9100049831318385606     \n",
      "  \n",
      "1455 6397100970172086592 1455\n",
      "de 11144093025662894627 de\n",
      "Maisonneuve 16399122424279130147 Maisonneuve\n",
      "W. 7347484796042509418 W.\n",
      "H915 9135924853700306158 H915\n",
      "           11427293743432821961           \n",
      "Fax 17030259339538587598 Fax\n",
      "  8532415787641010193  \n",
      "5148482802 9829312210527632909 5148482802\n",
      "\n",
      "   11295366195010100045 \n",
      "  \n",
      "Montreal 17406125053521963953 Montreal\n",
      "Quebec 13048886353597724116 Quebec\n",
      "Canada 12493166723054806753 Canada\n",
      "H3 12131622538089761714 H3\n",
      "G 16829822105563051112 G\n",
      "1M8 9540698899994290761 1M8\n",
      "      17579141535385064505      \n",
      "Emaildavecece.concordia.ca 13465759656340681344 Emaildavecece.concordia.ca\n",
      "\n",
      "\n",
      " 908432558851201422 \n",
      "\n",
      "\n"
     ]
    }
   ],
   "source": [
    "for token in spacy_text1:\n",
    "      print(token, token.lemma, token.lemma_)"
   ]
  },
  {
   "cell_type": "markdown",
   "metadata": {
    "id": "DMLLesL7QjAH"
   },
   "source": [
    "## Выделение (распознавание) именованных сущностей"
   ]
  },
  {
   "cell_type": "code",
   "execution_count": 67,
   "metadata": {
    "colab": {
     "base_uri": "https://localhost:8080/"
    },
    "id": "NV74j4K5QjmS",
    "outputId": "2e168c99-d2c1-40e8-9a97-aa9958a2a373"
   },
   "outputs": [
    {
     "name": "stdout",
     "output_type": "stream",
     "text": [
      "davecECE.Concordia ORG\n",
      "Dave Chu PERSON\n",
      "75 CARDINAL\n",
      "ECE ORG\n",
      "Concordia University ORG\n",
      "summer DATE\n",
      "8 CARDINAL\n",
      "75 CARDINAL\n",
      "Dave \n",
      "                                                                        \n",
      "              \n",
      "   PERSON\n",
      "Dave KaiChui Chu PERSON\n",
      "Dept. GPE\n",
      "Elec GPE\n",
      "Comp ORG\n",
      "Concordia University ORG\n",
      "1455 DATE\n",
      "de Maisonneuve W. H915 PERSON\n",
      "5148482802 CARDINAL\n",
      "Montreal Quebec ORG\n",
      "1M8 CARDINAL\n"
     ]
    }
   ],
   "source": [
    "for ent in spacy_text1.ents:\n",
    "  print(ent.text, ent.label_)"
   ]
  },
  {
   "cell_type": "code",
   "execution_count": 78,
   "metadata": {
    "id": "VyXU2sd9RgHj"
   },
   "outputs": [],
   "source": [
    "text = \"\"\"\n",
    "The Eiffel Tower is a wrought-iron lattice tower on the Champ de Mars in Paris, France.\n",
    "It is named after the engineer Gustave Eiffel, whose company designed and built the tower.\n",
    "Locally nicknamed \"La dame de fer\" (French for \"Iron Lady\"),\n",
    " it was constructed from 1887 to 1889 as the entrance to the 1889 World's Fair and was\n",
    "  initially criticised by some of France's leading artists and intellectuals for its design,\n",
    "   but it has become a global cultural icon of France and one of the most recognisable structures in the world.\n",
    "    The Eiffel Tower is the most-visited paid monument in the world; 6.91 million people ascended it in 2015.\n",
    "\n",
    "\"\"\"\n",
    "\n",
    "text_without_spaces = ' '.join([i.strip() for i in text.split(' ')])"
   ]
  },
  {
   "cell_type": "code",
   "execution_count": 79,
   "metadata": {
    "colab": {
     "base_uri": "https://localhost:8080/"
    },
    "id": "_N4dt67yR9cC",
    "outputId": "67d5dbd3-7150-443d-92a9-8eba074970b7"
   },
   "outputs": [
    {
     "name": "stdout",
     "output_type": "stream",
     "text": [
      "The Eiffel Tower FAC\n",
      "the Champ de Mars FAC\n",
      "Paris GPE\n",
      "France GPE\n",
      "Gustave Eiffel PERSON\n",
      "La dame de fer WORK_OF_ART\n",
      "French NORP\n",
      "Iron Lady WORK_OF_ART\n",
      "1887 to 1889 DATE\n",
      "1889 DATE\n",
      "World's Fair EVENT\n",
      "France GPE\n",
      "France GPE\n",
      "one CARDINAL\n",
      "The Eiffel Tower FAC\n",
      "6.91 million CARDINAL\n",
      "2015 DATE\n"
     ]
    }
   ],
   "source": [
    "etower_text = nlp(text_without_spaces)\n",
    "for ent in etower_text.ents:\n",
    "  print(ent.text, ent.label_)"
   ]
  },
  {
   "cell_type": "markdown",
   "metadata": {
    "id": "ojQSUyZmQjEt"
   },
   "source": [
    "## Разбор предложения"
   ]
  },
  {
   "cell_type": "code",
   "execution_count": 80,
   "metadata": {
    "id": "jJpU8Zp9QSsm"
   },
   "outputs": [],
   "source": [
    "from spacy import displacy"
   ]
  },
  {
   "cell_type": "code",
   "execution_count": 82,
   "metadata": {
    "colab": {
     "base_uri": "https://localhost:8080/",
     "height": 703
    },
    "id": "MrRGQan2SkQt",
    "outputId": "cf27476c-cca5-478a-b318-e04cb0df79bb"
   },
   "outputs": [
    {
     "data": {
      "text/html": [
       "<span class=\"tex2jax_ignore\"><svg xmlns=\"http://www.w3.org/2000/svg\" xmlns:xlink=\"http://www.w3.org/1999/xlink\" xml:lang=\"en\" id=\"6bcb209ab9b34b439c709eda38a3e4aa-0\" class=\"displacy\" width=\"3200\" height=\"662.0\" direction=\"ltr\" style=\"max-width: none; height: 662.0px; color: #000000; background: #ffffff; font-family: Arial; direction: ltr\">\n",
       "<text class=\"displacy-token\" fill=\"currentColor\" text-anchor=\"middle\" y=\"572.0\">\n",
       "    <tspan class=\"displacy-word\" fill=\"currentColor\" x=\"50\">The</tspan>\n",
       "    <tspan class=\"displacy-tag\" dy=\"2em\" fill=\"currentColor\" x=\"50\">DET</tspan>\n",
       "</text>\n",
       "\n",
       "<text class=\"displacy-token\" fill=\"currentColor\" text-anchor=\"middle\" y=\"572.0\">\n",
       "    <tspan class=\"displacy-word\" fill=\"currentColor\" x=\"225\">Eiffel</tspan>\n",
       "    <tspan class=\"displacy-tag\" dy=\"2em\" fill=\"currentColor\" x=\"225\">PROPN</tspan>\n",
       "</text>\n",
       "\n",
       "<text class=\"displacy-token\" fill=\"currentColor\" text-anchor=\"middle\" y=\"572.0\">\n",
       "    <tspan class=\"displacy-word\" fill=\"currentColor\" x=\"400\">Tower</tspan>\n",
       "    <tspan class=\"displacy-tag\" dy=\"2em\" fill=\"currentColor\" x=\"400\">PROPN</tspan>\n",
       "</text>\n",
       "\n",
       "<text class=\"displacy-token\" fill=\"currentColor\" text-anchor=\"middle\" y=\"572.0\">\n",
       "    <tspan class=\"displacy-word\" fill=\"currentColor\" x=\"575\">is</tspan>\n",
       "    <tspan class=\"displacy-tag\" dy=\"2em\" fill=\"currentColor\" x=\"575\">AUX</tspan>\n",
       "</text>\n",
       "\n",
       "<text class=\"displacy-token\" fill=\"currentColor\" text-anchor=\"middle\" y=\"572.0\">\n",
       "    <tspan class=\"displacy-word\" fill=\"currentColor\" x=\"750\">a</tspan>\n",
       "    <tspan class=\"displacy-tag\" dy=\"2em\" fill=\"currentColor\" x=\"750\">DET</tspan>\n",
       "</text>\n",
       "\n",
       "<text class=\"displacy-token\" fill=\"currentColor\" text-anchor=\"middle\" y=\"572.0\">\n",
       "    <tspan class=\"displacy-word\" fill=\"currentColor\" x=\"925\">wrought-</tspan>\n",
       "    <tspan class=\"displacy-tag\" dy=\"2em\" fill=\"currentColor\" x=\"925\">ADJ</tspan>\n",
       "</text>\n",
       "\n",
       "<text class=\"displacy-token\" fill=\"currentColor\" text-anchor=\"middle\" y=\"572.0\">\n",
       "    <tspan class=\"displacy-word\" fill=\"currentColor\" x=\"1100\">iron</tspan>\n",
       "    <tspan class=\"displacy-tag\" dy=\"2em\" fill=\"currentColor\" x=\"1100\">NOUN</tspan>\n",
       "</text>\n",
       "\n",
       "<text class=\"displacy-token\" fill=\"currentColor\" text-anchor=\"middle\" y=\"572.0\">\n",
       "    <tspan class=\"displacy-word\" fill=\"currentColor\" x=\"1275\">lattice</tspan>\n",
       "    <tspan class=\"displacy-tag\" dy=\"2em\" fill=\"currentColor\" x=\"1275\">NOUN</tspan>\n",
       "</text>\n",
       "\n",
       "<text class=\"displacy-token\" fill=\"currentColor\" text-anchor=\"middle\" y=\"572.0\">\n",
       "    <tspan class=\"displacy-word\" fill=\"currentColor\" x=\"1450\">tower</tspan>\n",
       "    <tspan class=\"displacy-tag\" dy=\"2em\" fill=\"currentColor\" x=\"1450\">NOUN</tspan>\n",
       "</text>\n",
       "\n",
       "<text class=\"displacy-token\" fill=\"currentColor\" text-anchor=\"middle\" y=\"572.0\">\n",
       "    <tspan class=\"displacy-word\" fill=\"currentColor\" x=\"1625\">on</tspan>\n",
       "    <tspan class=\"displacy-tag\" dy=\"2em\" fill=\"currentColor\" x=\"1625\">ADP</tspan>\n",
       "</text>\n",
       "\n",
       "<text class=\"displacy-token\" fill=\"currentColor\" text-anchor=\"middle\" y=\"572.0\">\n",
       "    <tspan class=\"displacy-word\" fill=\"currentColor\" x=\"1800\">the</tspan>\n",
       "    <tspan class=\"displacy-tag\" dy=\"2em\" fill=\"currentColor\" x=\"1800\">DET</tspan>\n",
       "</text>\n",
       "\n",
       "<text class=\"displacy-token\" fill=\"currentColor\" text-anchor=\"middle\" y=\"572.0\">\n",
       "    <tspan class=\"displacy-word\" fill=\"currentColor\" x=\"1975\">Champ</tspan>\n",
       "    <tspan class=\"displacy-tag\" dy=\"2em\" fill=\"currentColor\" x=\"1975\">PROPN</tspan>\n",
       "</text>\n",
       "\n",
       "<text class=\"displacy-token\" fill=\"currentColor\" text-anchor=\"middle\" y=\"572.0\">\n",
       "    <tspan class=\"displacy-word\" fill=\"currentColor\" x=\"2150\">de</tspan>\n",
       "    <tspan class=\"displacy-tag\" dy=\"2em\" fill=\"currentColor\" x=\"2150\">X</tspan>\n",
       "</text>\n",
       "\n",
       "<text class=\"displacy-token\" fill=\"currentColor\" text-anchor=\"middle\" y=\"572.0\">\n",
       "    <tspan class=\"displacy-word\" fill=\"currentColor\" x=\"2325\">Mars</tspan>\n",
       "    <tspan class=\"displacy-tag\" dy=\"2em\" fill=\"currentColor\" x=\"2325\">PROPN</tspan>\n",
       "</text>\n",
       "\n",
       "<text class=\"displacy-token\" fill=\"currentColor\" text-anchor=\"middle\" y=\"572.0\">\n",
       "    <tspan class=\"displacy-word\" fill=\"currentColor\" x=\"2500\">in</tspan>\n",
       "    <tspan class=\"displacy-tag\" dy=\"2em\" fill=\"currentColor\" x=\"2500\">ADP</tspan>\n",
       "</text>\n",
       "\n",
       "<text class=\"displacy-token\" fill=\"currentColor\" text-anchor=\"middle\" y=\"572.0\">\n",
       "    <tspan class=\"displacy-word\" fill=\"currentColor\" x=\"2675\">Paris,</tspan>\n",
       "    <tspan class=\"displacy-tag\" dy=\"2em\" fill=\"currentColor\" x=\"2675\">PROPN</tspan>\n",
       "</text>\n",
       "\n",
       "<text class=\"displacy-token\" fill=\"currentColor\" text-anchor=\"middle\" y=\"572.0\">\n",
       "    <tspan class=\"displacy-word\" fill=\"currentColor\" x=\"2850\">France.</tspan>\n",
       "    <tspan class=\"displacy-tag\" dy=\"2em\" fill=\"currentColor\" x=\"2850\">PROPN</tspan>\n",
       "</text>\n",
       "\n",
       "<text class=\"displacy-token\" fill=\"currentColor\" text-anchor=\"middle\" y=\"572.0\">\n",
       "    <tspan class=\"displacy-word\" fill=\"currentColor\" x=\"3025\">\n",
       "</tspan>\n",
       "    <tspan class=\"displacy-tag\" dy=\"2em\" fill=\"currentColor\" x=\"3025\">SPACE</tspan>\n",
       "</text>\n",
       "\n",
       "<g class=\"displacy-arrow\">\n",
       "    <path class=\"displacy-arc\" id=\"arrow-6bcb209ab9b34b439c709eda38a3e4aa-0-0\" stroke-width=\"2px\" d=\"M70,527.0 C70,352.0 380.0,352.0 380.0,527.0\" fill=\"none\" stroke=\"currentColor\"/>\n",
       "    <text dy=\"1.25em\" style=\"font-size: 0.8em; letter-spacing: 1px\">\n",
       "        <textPath xlink:href=\"#arrow-6bcb209ab9b34b439c709eda38a3e4aa-0-0\" class=\"displacy-label\" startOffset=\"50%\" side=\"left\" fill=\"currentColor\" text-anchor=\"middle\">det</textPath>\n",
       "    </text>\n",
       "    <path class=\"displacy-arrowhead\" d=\"M70,529.0 L62,517.0 78,517.0\" fill=\"currentColor\"/>\n",
       "</g>\n",
       "\n",
       "<g class=\"displacy-arrow\">\n",
       "    <path class=\"displacy-arc\" id=\"arrow-6bcb209ab9b34b439c709eda38a3e4aa-0-1\" stroke-width=\"2px\" d=\"M245,527.0 C245,439.5 375.0,439.5 375.0,527.0\" fill=\"none\" stroke=\"currentColor\"/>\n",
       "    <text dy=\"1.25em\" style=\"font-size: 0.8em; letter-spacing: 1px\">\n",
       "        <textPath xlink:href=\"#arrow-6bcb209ab9b34b439c709eda38a3e4aa-0-1\" class=\"displacy-label\" startOffset=\"50%\" side=\"left\" fill=\"currentColor\" text-anchor=\"middle\">compound</textPath>\n",
       "    </text>\n",
       "    <path class=\"displacy-arrowhead\" d=\"M245,529.0 L237,517.0 253,517.0\" fill=\"currentColor\"/>\n",
       "</g>\n",
       "\n",
       "<g class=\"displacy-arrow\">\n",
       "    <path class=\"displacy-arc\" id=\"arrow-6bcb209ab9b34b439c709eda38a3e4aa-0-2\" stroke-width=\"2px\" d=\"M420,527.0 C420,439.5 550.0,439.5 550.0,527.0\" fill=\"none\" stroke=\"currentColor\"/>\n",
       "    <text dy=\"1.25em\" style=\"font-size: 0.8em; letter-spacing: 1px\">\n",
       "        <textPath xlink:href=\"#arrow-6bcb209ab9b34b439c709eda38a3e4aa-0-2\" class=\"displacy-label\" startOffset=\"50%\" side=\"left\" fill=\"currentColor\" text-anchor=\"middle\">nsubj</textPath>\n",
       "    </text>\n",
       "    <path class=\"displacy-arrowhead\" d=\"M420,529.0 L412,517.0 428,517.0\" fill=\"currentColor\"/>\n",
       "</g>\n",
       "\n",
       "<g class=\"displacy-arrow\">\n",
       "    <path class=\"displacy-arc\" id=\"arrow-6bcb209ab9b34b439c709eda38a3e4aa-0-3\" stroke-width=\"2px\" d=\"M770,527.0 C770,177.0 1440.0,177.0 1440.0,527.0\" fill=\"none\" stroke=\"currentColor\"/>\n",
       "    <text dy=\"1.25em\" style=\"font-size: 0.8em; letter-spacing: 1px\">\n",
       "        <textPath xlink:href=\"#arrow-6bcb209ab9b34b439c709eda38a3e4aa-0-3\" class=\"displacy-label\" startOffset=\"50%\" side=\"left\" fill=\"currentColor\" text-anchor=\"middle\">det</textPath>\n",
       "    </text>\n",
       "    <path class=\"displacy-arrowhead\" d=\"M770,529.0 L762,517.0 778,517.0\" fill=\"currentColor\"/>\n",
       "</g>\n",
       "\n",
       "<g class=\"displacy-arrow\">\n",
       "    <path class=\"displacy-arc\" id=\"arrow-6bcb209ab9b34b439c709eda38a3e4aa-0-4\" stroke-width=\"2px\" d=\"M945,527.0 C945,439.5 1075.0,439.5 1075.0,527.0\" fill=\"none\" stroke=\"currentColor\"/>\n",
       "    <text dy=\"1.25em\" style=\"font-size: 0.8em; letter-spacing: 1px\">\n",
       "        <textPath xlink:href=\"#arrow-6bcb209ab9b34b439c709eda38a3e4aa-0-4\" class=\"displacy-label\" startOffset=\"50%\" side=\"left\" fill=\"currentColor\" text-anchor=\"middle\">compound</textPath>\n",
       "    </text>\n",
       "    <path class=\"displacy-arrowhead\" d=\"M945,529.0 L937,517.0 953,517.0\" fill=\"currentColor\"/>\n",
       "</g>\n",
       "\n",
       "<g class=\"displacy-arrow\">\n",
       "    <path class=\"displacy-arc\" id=\"arrow-6bcb209ab9b34b439c709eda38a3e4aa-0-5\" stroke-width=\"2px\" d=\"M1120,527.0 C1120,352.0 1430.0,352.0 1430.0,527.0\" fill=\"none\" stroke=\"currentColor\"/>\n",
       "    <text dy=\"1.25em\" style=\"font-size: 0.8em; letter-spacing: 1px\">\n",
       "        <textPath xlink:href=\"#arrow-6bcb209ab9b34b439c709eda38a3e4aa-0-5\" class=\"displacy-label\" startOffset=\"50%\" side=\"left\" fill=\"currentColor\" text-anchor=\"middle\">compound</textPath>\n",
       "    </text>\n",
       "    <path class=\"displacy-arrowhead\" d=\"M1120,529.0 L1112,517.0 1128,517.0\" fill=\"currentColor\"/>\n",
       "</g>\n",
       "\n",
       "<g class=\"displacy-arrow\">\n",
       "    <path class=\"displacy-arc\" id=\"arrow-6bcb209ab9b34b439c709eda38a3e4aa-0-6\" stroke-width=\"2px\" d=\"M1295,527.0 C1295,439.5 1425.0,439.5 1425.0,527.0\" fill=\"none\" stroke=\"currentColor\"/>\n",
       "    <text dy=\"1.25em\" style=\"font-size: 0.8em; letter-spacing: 1px\">\n",
       "        <textPath xlink:href=\"#arrow-6bcb209ab9b34b439c709eda38a3e4aa-0-6\" class=\"displacy-label\" startOffset=\"50%\" side=\"left\" fill=\"currentColor\" text-anchor=\"middle\">compound</textPath>\n",
       "    </text>\n",
       "    <path class=\"displacy-arrowhead\" d=\"M1295,529.0 L1287,517.0 1303,517.0\" fill=\"currentColor\"/>\n",
       "</g>\n",
       "\n",
       "<g class=\"displacy-arrow\">\n",
       "    <path class=\"displacy-arc\" id=\"arrow-6bcb209ab9b34b439c709eda38a3e4aa-0-7\" stroke-width=\"2px\" d=\"M595,527.0 C595,89.5 1445.0,89.5 1445.0,527.0\" fill=\"none\" stroke=\"currentColor\"/>\n",
       "    <text dy=\"1.25em\" style=\"font-size: 0.8em; letter-spacing: 1px\">\n",
       "        <textPath xlink:href=\"#arrow-6bcb209ab9b34b439c709eda38a3e4aa-0-7\" class=\"displacy-label\" startOffset=\"50%\" side=\"left\" fill=\"currentColor\" text-anchor=\"middle\">attr</textPath>\n",
       "    </text>\n",
       "    <path class=\"displacy-arrowhead\" d=\"M1445.0,529.0 L1453.0,517.0 1437.0,517.0\" fill=\"currentColor\"/>\n",
       "</g>\n",
       "\n",
       "<g class=\"displacy-arrow\">\n",
       "    <path class=\"displacy-arc\" id=\"arrow-6bcb209ab9b34b439c709eda38a3e4aa-0-8\" stroke-width=\"2px\" d=\"M1470,527.0 C1470,439.5 1600.0,439.5 1600.0,527.0\" fill=\"none\" stroke=\"currentColor\"/>\n",
       "    <text dy=\"1.25em\" style=\"font-size: 0.8em; letter-spacing: 1px\">\n",
       "        <textPath xlink:href=\"#arrow-6bcb209ab9b34b439c709eda38a3e4aa-0-8\" class=\"displacy-label\" startOffset=\"50%\" side=\"left\" fill=\"currentColor\" text-anchor=\"middle\">prep</textPath>\n",
       "    </text>\n",
       "    <path class=\"displacy-arrowhead\" d=\"M1600.0,529.0 L1608.0,517.0 1592.0,517.0\" fill=\"currentColor\"/>\n",
       "</g>\n",
       "\n",
       "<g class=\"displacy-arrow\">\n",
       "    <path class=\"displacy-arc\" id=\"arrow-6bcb209ab9b34b439c709eda38a3e4aa-0-9\" stroke-width=\"2px\" d=\"M1820,527.0 C1820,264.5 2310.0,264.5 2310.0,527.0\" fill=\"none\" stroke=\"currentColor\"/>\n",
       "    <text dy=\"1.25em\" style=\"font-size: 0.8em; letter-spacing: 1px\">\n",
       "        <textPath xlink:href=\"#arrow-6bcb209ab9b34b439c709eda38a3e4aa-0-9\" class=\"displacy-label\" startOffset=\"50%\" side=\"left\" fill=\"currentColor\" text-anchor=\"middle\">det</textPath>\n",
       "    </text>\n",
       "    <path class=\"displacy-arrowhead\" d=\"M1820,529.0 L1812,517.0 1828,517.0\" fill=\"currentColor\"/>\n",
       "</g>\n",
       "\n",
       "<g class=\"displacy-arrow\">\n",
       "    <path class=\"displacy-arc\" id=\"arrow-6bcb209ab9b34b439c709eda38a3e4aa-0-10\" stroke-width=\"2px\" d=\"M1995,527.0 C1995,352.0 2305.0,352.0 2305.0,527.0\" fill=\"none\" stroke=\"currentColor\"/>\n",
       "    <text dy=\"1.25em\" style=\"font-size: 0.8em; letter-spacing: 1px\">\n",
       "        <textPath xlink:href=\"#arrow-6bcb209ab9b34b439c709eda38a3e4aa-0-10\" class=\"displacy-label\" startOffset=\"50%\" side=\"left\" fill=\"currentColor\" text-anchor=\"middle\">nmod</textPath>\n",
       "    </text>\n",
       "    <path class=\"displacy-arrowhead\" d=\"M1995,529.0 L1987,517.0 2003,517.0\" fill=\"currentColor\"/>\n",
       "</g>\n",
       "\n",
       "<g class=\"displacy-arrow\">\n",
       "    <path class=\"displacy-arc\" id=\"arrow-6bcb209ab9b34b439c709eda38a3e4aa-0-11\" stroke-width=\"2px\" d=\"M2170,527.0 C2170,439.5 2300.0,439.5 2300.0,527.0\" fill=\"none\" stroke=\"currentColor\"/>\n",
       "    <text dy=\"1.25em\" style=\"font-size: 0.8em; letter-spacing: 1px\">\n",
       "        <textPath xlink:href=\"#arrow-6bcb209ab9b34b439c709eda38a3e4aa-0-11\" class=\"displacy-label\" startOffset=\"50%\" side=\"left\" fill=\"currentColor\" text-anchor=\"middle\">nmod</textPath>\n",
       "    </text>\n",
       "    <path class=\"displacy-arrowhead\" d=\"M2170,529.0 L2162,517.0 2178,517.0\" fill=\"currentColor\"/>\n",
       "</g>\n",
       "\n",
       "<g class=\"displacy-arrow\">\n",
       "    <path class=\"displacy-arc\" id=\"arrow-6bcb209ab9b34b439c709eda38a3e4aa-0-12\" stroke-width=\"2px\" d=\"M1645,527.0 C1645,177.0 2315.0,177.0 2315.0,527.0\" fill=\"none\" stroke=\"currentColor\"/>\n",
       "    <text dy=\"1.25em\" style=\"font-size: 0.8em; letter-spacing: 1px\">\n",
       "        <textPath xlink:href=\"#arrow-6bcb209ab9b34b439c709eda38a3e4aa-0-12\" class=\"displacy-label\" startOffset=\"50%\" side=\"left\" fill=\"currentColor\" text-anchor=\"middle\">pobj</textPath>\n",
       "    </text>\n",
       "    <path class=\"displacy-arrowhead\" d=\"M2315.0,529.0 L2323.0,517.0 2307.0,517.0\" fill=\"currentColor\"/>\n",
       "</g>\n",
       "\n",
       "<g class=\"displacy-arrow\">\n",
       "    <path class=\"displacy-arc\" id=\"arrow-6bcb209ab9b34b439c709eda38a3e4aa-0-13\" stroke-width=\"2px\" d=\"M2345,527.0 C2345,439.5 2475.0,439.5 2475.0,527.0\" fill=\"none\" stroke=\"currentColor\"/>\n",
       "    <text dy=\"1.25em\" style=\"font-size: 0.8em; letter-spacing: 1px\">\n",
       "        <textPath xlink:href=\"#arrow-6bcb209ab9b34b439c709eda38a3e4aa-0-13\" class=\"displacy-label\" startOffset=\"50%\" side=\"left\" fill=\"currentColor\" text-anchor=\"middle\">prep</textPath>\n",
       "    </text>\n",
       "    <path class=\"displacy-arrowhead\" d=\"M2475.0,529.0 L2483.0,517.0 2467.0,517.0\" fill=\"currentColor\"/>\n",
       "</g>\n",
       "\n",
       "<g class=\"displacy-arrow\">\n",
       "    <path class=\"displacy-arc\" id=\"arrow-6bcb209ab9b34b439c709eda38a3e4aa-0-14\" stroke-width=\"2px\" d=\"M2520,527.0 C2520,439.5 2650.0,439.5 2650.0,527.0\" fill=\"none\" stroke=\"currentColor\"/>\n",
       "    <text dy=\"1.25em\" style=\"font-size: 0.8em; letter-spacing: 1px\">\n",
       "        <textPath xlink:href=\"#arrow-6bcb209ab9b34b439c709eda38a3e4aa-0-14\" class=\"displacy-label\" startOffset=\"50%\" side=\"left\" fill=\"currentColor\" text-anchor=\"middle\">pobj</textPath>\n",
       "    </text>\n",
       "    <path class=\"displacy-arrowhead\" d=\"M2650.0,529.0 L2658.0,517.0 2642.0,517.0\" fill=\"currentColor\"/>\n",
       "</g>\n",
       "\n",
       "<g class=\"displacy-arrow\">\n",
       "    <path class=\"displacy-arc\" id=\"arrow-6bcb209ab9b34b439c709eda38a3e4aa-0-15\" stroke-width=\"2px\" d=\"M595,527.0 C595,2.0 2850.0,2.0 2850.0,527.0\" fill=\"none\" stroke=\"currentColor\"/>\n",
       "    <text dy=\"1.25em\" style=\"font-size: 0.8em; letter-spacing: 1px\">\n",
       "        <textPath xlink:href=\"#arrow-6bcb209ab9b34b439c709eda38a3e4aa-0-15\" class=\"displacy-label\" startOffset=\"50%\" side=\"left\" fill=\"currentColor\" text-anchor=\"middle\">punct</textPath>\n",
       "    </text>\n",
       "    <path class=\"displacy-arrowhead\" d=\"M2850.0,529.0 L2858.0,517.0 2842.0,517.0\" fill=\"currentColor\"/>\n",
       "</g>\n",
       "\n",
       "<g class=\"displacy-arrow\">\n",
       "    <path class=\"displacy-arc\" id=\"arrow-6bcb209ab9b34b439c709eda38a3e4aa-0-16\" stroke-width=\"2px\" d=\"M2870,527.0 C2870,439.5 3000.0,439.5 3000.0,527.0\" fill=\"none\" stroke=\"currentColor\"/>\n",
       "    <text dy=\"1.25em\" style=\"font-size: 0.8em; letter-spacing: 1px\">\n",
       "        <textPath xlink:href=\"#arrow-6bcb209ab9b34b439c709eda38a3e4aa-0-16\" class=\"displacy-label\" startOffset=\"50%\" side=\"left\" fill=\"currentColor\" text-anchor=\"middle\"></textPath>\n",
       "    </text>\n",
       "    <path class=\"displacy-arrowhead\" d=\"M3000.0,529.0 L3008.0,517.0 2992.0,517.0\" fill=\"currentColor\"/>\n",
       "</g>\n",
       "</svg></span>"
      ],
      "text/plain": [
       "<IPython.core.display.HTML object>"
      ]
     },
     "metadata": {
      "tags": []
     },
     "output_type": "display_data"
    }
   ],
   "source": [
    "for sentence in etower_text.sents:\n",
    "  displacy.render(sentence, style='dep', jupyter=True)  \n",
    "  break"
   ]
  }
 ],
 "metadata": {
  "colab": {
   "collapsed_sections": [],
   "name": "MMO_lab_5.ipynb",
   "provenance": [],
   "toc_visible": true
  },
  "kernelspec": {
   "display_name": "Python 3",
   "language": "python",
   "name": "python3"
  },
  "language_info": {
   "codemirror_mode": {
    "name": "ipython",
    "version": 3
   },
   "file_extension": ".py",
   "mimetype": "text/x-python",
   "name": "python",
   "nbconvert_exporter": "python",
   "pygments_lexer": "ipython3",
   "version": "3.8.6"
  }
 },
 "nbformat": 4,
 "nbformat_minor": 1
}
